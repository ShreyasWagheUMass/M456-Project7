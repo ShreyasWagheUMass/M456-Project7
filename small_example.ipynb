{
 "cells": [
  {
   "cell_type": "code",
   "execution_count": 1,
   "id": "d0700ed0",
   "metadata": {},
   "outputs": [],
   "source": [
    "import numpy as np\n",
    "import pandas as pd\n",
    "import gurobipy as gb\n",
    "from gurobipy import GRB"
   ]
  },
  {
   "cell_type": "code",
   "execution_count": 2,
   "id": "6b8a580d",
   "metadata": {},
   "outputs": [],
   "source": [
    "# We don't *need* these to be arrays, but its closer to what we'll have in the final programme.\n",
    "c = np.array([\n",
    "    [0,6,4,2,4],\n",
    "    [6,0,5,5,2],\n",
    "    [4,5,0,4,6],\n",
    "    [2,5,4,0,3],\n",
    "    [4,2,6,3,0]\n",
    "]) # This is a symmetric matrix as expected, since c_ij == c_ji.\n",
    "q = np.array([0,3,5,4,6])\n",
    "Q = 9\n",
    "v = 5\n",
    "V = set(range(v))\n",
    "def Del(p):\n",
    "    return V - set([p])\n",
    "N = Del(0)"
   ]
  },
  {
   "cell_type": "code",
   "execution_count": 3,
   "id": "5a31efc9",
   "metadata": {},
   "outputs": [],
   "source": [
    "from itertools import product\n",
    "A = product(N,N)\n",
    "A = filter(lambda tup: tup[0] != tup[1], A)"
   ]
  },
  {
   "cell_type": "code",
   "execution_count": 4,
   "id": "02c1a194",
   "metadata": {},
   "outputs": [
    {
     "name": "stdout",
     "output_type": "stream",
     "text": [
      "Set parameter Username\n",
      "Academic license - for non-commercial use only - expires 2023-09-12\n"
     ]
    }
   ],
   "source": [
    "m = gb.Model()"
   ]
  },
  {
   "cell_type": "code",
   "execution_count": 5,
   "id": "36773052",
   "metadata": {},
   "outputs": [],
   "source": [
    "x = m.addVars(v,v,vtype=GRB.BINARY, name='x')"
   ]
  },
  {
   "cell_type": "code",
   "execution_count": 6,
   "id": "33cb456d",
   "metadata": {},
   "outputs": [],
   "source": [
    "#Constraints are coded in the order they appear in the final report"
   ]
  },
  {
   "cell_type": "code",
   "execution_count": 7,
   "id": "0c8470e6",
   "metadata": {},
   "outputs": [],
   "source": [
    "m.setObjective(sum([10 * c[i,j] * x[i,j] for i,j in product(V,V)]), GRB.MINIMIZE)"
   ]
  },
  {
   "cell_type": "code",
   "execution_count": 8,
   "id": "40993c83",
   "metadata": {},
   "outputs": [],
   "source": [
    "#Source and sink constraints\n",
    "for i in N:\n",
    "    m.addConstr(sum([x[i,j] for j in Del(i)]) == 1)\n",
    "for j in N:\n",
    "    m.addConstr(sum([x[i,j] for i in Del(j)]) == 1 )"
   ]
  },
  {
   "cell_type": "code",
   "execution_count": 9,
   "id": "e6ae18ee",
   "metadata": {},
   "outputs": [
    {
     "data": {
      "text/plain": [
       "<gurobi.Constr *Awaiting Model Update*>"
      ]
     },
     "execution_count": 9,
     "metadata": {},
     "output_type": "execute_result"
    }
   ],
   "source": [
    "#Construction of L loops\n",
    "L = m.addVar(lb=0.0, vtype=GRB.INTEGER, name='L')\n",
    "m.addConstr(sum([x[0,j] for j in Del(0)]) == L)"
   ]
  },
  {
   "cell_type": "code",
   "execution_count": 10,
   "id": "0e293c60",
   "metadata": {},
   "outputs": [],
   "source": [
    "#Capacity constraints\n",
    "u = m.addVars(V, vtype=GRB.INTEGER, name='u')\n",
    "for i,j in A:\n",
    "    m.addConstr(u[i] - u[j] + Q*x[i,j] <= Q - q[j])\n",
    "for i in V:\n",
    "    m.addConstr(u[i] >= q[i])"
   ]
  },
  {
   "cell_type": "code",
   "execution_count": 11,
   "id": "b652068c",
   "metadata": {},
   "outputs": [
    {
     "name": "stdout",
     "output_type": "stream",
     "text": [
      "Gurobi Optimizer version 9.5.2 build v9.5.2rc0 (mac64[rosetta2])\n",
      "Thread count: 8 physical cores, 8 logical processors, using up to 8 threads\n",
      "Optimize a model with 26 rows, 31 columns and 78 nonzeros\n",
      "Model fingerprint: 0xc5327254\n",
      "Variable types: 0 continuous, 31 integer (25 binary)\n",
      "Coefficient statistics:\n",
      "  Matrix range     [1e+00, 9e+00]\n",
      "  Objective range  [2e+01, 6e+01]\n",
      "  Bounds range     [1e+00, 1e+00]\n",
      "  RHS range        [1e+00, 6e+00]\n",
      "Found heuristic solution: objective 320.0000000\n",
      "Presolve removed 6 rows and 15 columns\n",
      "Presolve time: 0.00s\n",
      "Presolved: 20 rows, 16 columns, 60 nonzeros\n",
      "Variable types: 0 continuous, 16 integer (12 binary)\n",
      "Found heuristic solution: objective 220.0000000\n",
      "\n",
      "Root relaxation: objective 1.700000e+02, 8 iterations, 0.00 seconds (0.00 work units)\n",
      "\n",
      "    Nodes    |    Current Node    |     Objective Bounds      |     Work\n",
      " Expl Unexpl |  Obj  Depth IntInf | Incumbent    BestBd   Gap | It/Node Time\n",
      "\n",
      "     0     0  170.00000    0    6  220.00000  170.00000  22.7%     -    0s\n",
      "     0     0  186.66667    0    6  220.00000  186.66667  15.2%     -    0s\n",
      "\n",
      "Cutting planes:\n",
      "  Gomory: 1\n",
      "  MIR: 5\n",
      "  Zero half: 1\n",
      "\n",
      "Explored 1 nodes (15 simplex iterations) in 0.02 seconds (0.00 work units)\n",
      "Thread count was 8 (of 8 available processors)\n",
      "\n",
      "Solution count 2: 220 320 \n",
      "\n",
      "Optimal solution found (tolerance 1.00e-04)\n",
      "Best objective 2.200000000000e+02, best bound 2.200000000000e+02, gap 0.0000%\n"
     ]
    }
   ],
   "source": [
    "m.optimize()"
   ]
  },
  {
   "cell_type": "code",
   "execution_count": 12,
   "id": "c5b965b1",
   "metadata": {},
   "outputs": [
    {
     "name": "stdout",
     "output_type": "stream",
     "text": [
      "x[0,0] 0.0\n",
      "x[0,1] 1.0\n",
      "x[0,2] 0.0\n",
      "x[0,3] 1.0\n",
      "x[0,4] 0.0\n",
      "x[1,0] 0.0\n",
      "x[1,1] 0.0\n",
      "x[1,2] 0.0\n",
      "x[1,3] 0.0\n",
      "x[1,4] 1.0\n",
      "x[2,0] 1.0\n",
      "x[2,1] 0.0\n",
      "x[2,2] 0.0\n",
      "x[2,3] 0.0\n",
      "x[2,4] 0.0\n",
      "x[3,0] 0.0\n",
      "x[3,1] 0.0\n",
      "x[3,2] 1.0\n",
      "x[3,3] 0.0\n",
      "x[3,4] 0.0\n",
      "x[4,0] 1.0\n",
      "x[4,1] 0.0\n",
      "x[4,2] 0.0\n",
      "x[4,3] 0.0\n",
      "x[4,4] 0.0\n",
      "L 2.0\n",
      "u[0] 0.0\n",
      "u[1] 3.0\n",
      "u[2] 9.0\n",
      "u[3] 4.0\n",
      "u[4] 9.0\n",
      "Total cost: 220.0\n"
     ]
    }
   ],
   "source": [
    "for var in m.getVars():\n",
    "    print(var.varName, var.x)\n",
    "    \n",
    "print('Total cost: {}'.format(m.ObjVal))"
   ]
  },
  {
   "cell_type": "markdown",
   "id": "463b5710",
   "metadata": {},
   "source": [
    "Shreyas' Notes:\n",
    "1. We have the data we need, and I have been able to clean the data.\n",
    "2. The small example above is in line with the expected optimal solution to this problem.\n",
    "3. I tried using the programme with the entirety of the data from the Food Bank, but it took an unreasonable amounnt of time before I aborted it. I shall try again after performing a clustering of the data."
   ]
  }
 ],
 "metadata": {
  "kernelspec": {
   "display_name": "Python 3 (ipykernel)",
   "language": "python",
   "name": "python3"
  },
  "language_info": {
   "codemirror_mode": {
    "name": "ipython",
    "version": 3
   },
   "file_extension": ".py",
   "mimetype": "text/x-python",
   "name": "python",
   "nbconvert_exporter": "python",
   "pygments_lexer": "ipython3",
   "version": "3.10.4"
  }
 },
 "nbformat": 4,
 "nbformat_minor": 5
}
