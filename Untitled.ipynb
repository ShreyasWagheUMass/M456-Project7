{
 "cells": [
  {
   "cell_type": "code",
   "execution_count": 1,
   "id": "2295b908",
   "metadata": {},
   "outputs": [],
   "source": [
    "import numpy as np\n",
    "import pandas as pd\n",
    "import os\n",
    "\n",
    "locations = pd.read_csv(os.path.abspath('./data/FBWMLocationsDemands.csv'))"
   ]
  },
  {
   "cell_type": "code",
   "execution_count": 2,
   "id": "c640eebe",
   "metadata": {},
   "outputs": [],
   "source": [
    "locations.columns = locations.loc[0]"
   ]
  },
  {
   "cell_type": "code",
   "execution_count": 3,
   "id": "f03cb207",
   "metadata": {},
   "outputs": [
    {
     "data": {
      "text/html": [
       "<div>\n",
       "<style scoped>\n",
       "    .dataframe tbody tr th:only-of-type {\n",
       "        vertical-align: middle;\n",
       "    }\n",
       "\n",
       "    .dataframe tbody tr th {\n",
       "        vertical-align: top;\n",
       "    }\n",
       "\n",
       "    .dataframe thead th {\n",
       "        text-align: right;\n",
       "    }\n",
       "</style>\n",
       "<table border=\"1\" class=\"dataframe\">\n",
       "  <thead>\n",
       "    <tr style=\"text-align: right;\">\n",
       "      <th></th>\n",
       "      <th>Ref number</th>\n",
       "      <th>Name</th>\n",
       "      <th>Type</th>\n",
       "      <th>Address</th>\n",
       "      <th>City/Town</th>\n",
       "      <th>Zipcode</th>\n",
       "      <th>Number of pallets</th>\n",
       "      <th>Frequency (monthly except if noted)</th>\n",
       "    </tr>\n",
       "  </thead>\n",
       "  <tbody>\n",
       "    <tr>\n",
       "      <th>0</th>\n",
       "      <td>Ref number</td>\n",
       "      <td>Name</td>\n",
       "      <td>Type</td>\n",
       "      <td>Address</td>\n",
       "      <td>City/Town</td>\n",
       "      <td>Zipcode</td>\n",
       "      <td>Number of pallets</td>\n",
       "      <td>Frequency (monthly except if noted)</td>\n",
       "    </tr>\n",
       "    <tr>\n",
       "      <th>1</th>\n",
       "      <td>1</td>\n",
       "      <td>Amherst Survival Center</td>\n",
       "      <td>Agency</td>\n",
       "      <td>138 Sunderland Road</td>\n",
       "      <td>Amherst</td>\n",
       "      <td>01002</td>\n",
       "      <td>2</td>\n",
       "      <td>NaN</td>\n",
       "    </tr>\n",
       "    <tr>\n",
       "      <th>2</th>\n",
       "      <td>2</td>\n",
       "      <td>Palmer Food Share, Inc.</td>\n",
       "      <td>Agency</td>\n",
       "      <td>39 Walnut Street</td>\n",
       "      <td>Palmer</td>\n",
       "      <td>01069-1731</td>\n",
       "      <td>2</td>\n",
       "      <td>NaN</td>\n",
       "    </tr>\n",
       "    <tr>\n",
       "      <th>3</th>\n",
       "      <td>3</td>\n",
       "      <td>Franklin County Community Meals Program</td>\n",
       "      <td>Agency</td>\n",
       "      <td>118 East Main Street</td>\n",
       "      <td>Orange</td>\n",
       "      <td>01364</td>\n",
       "      <td>1</td>\n",
       "      <td>NaN</td>\n",
       "    </tr>\n",
       "    <tr>\n",
       "      <th>4</th>\n",
       "      <td>4</td>\n",
       "      <td>Freedom House of God</td>\n",
       "      <td>Agency</td>\n",
       "      <td>563 Union Street</td>\n",
       "      <td>Springfield</td>\n",
       "      <td>01139-0187</td>\n",
       "      <td>1</td>\n",
       "      <td>NaN</td>\n",
       "    </tr>\n",
       "    <tr>\n",
       "      <th>...</th>\n",
       "      <td>...</td>\n",
       "      <td>...</td>\n",
       "      <td>...</td>\n",
       "      <td>...</td>\n",
       "      <td>...</td>\n",
       "      <td>...</td>\n",
       "      <td>...</td>\n",
       "      <td>...</td>\n",
       "    </tr>\n",
       "    <tr>\n",
       "      <th>132</th>\n",
       "      <td>132</td>\n",
       "      <td>Riverland Farm</td>\n",
       "      <td>Pick-up</td>\n",
       "      <td>206 River Rd.</td>\n",
       "      <td>Sunderland</td>\n",
       "      <td>01375</td>\n",
       "      <td>1 to 2</td>\n",
       "      <td>NaN</td>\n",
       "    </tr>\n",
       "    <tr>\n",
       "      <th>133</th>\n",
       "      <td>133</td>\n",
       "      <td>Next Barn Over</td>\n",
       "      <td>Pick-up</td>\n",
       "      <td>15 Lawrence Plain Rd.</td>\n",
       "      <td>Hadley</td>\n",
       "      <td>01035</td>\n",
       "      <td>1 to 2</td>\n",
       "      <td>NaN</td>\n",
       "    </tr>\n",
       "    <tr>\n",
       "      <th>134</th>\n",
       "      <td>134</td>\n",
       "      <td>Warner Farm</td>\n",
       "      <td>Pick-up</td>\n",
       "      <td>23 South Main St.</td>\n",
       "      <td>Sunderland</td>\n",
       "      <td>01375</td>\n",
       "      <td>1 to 2</td>\n",
       "      <td>NaN</td>\n",
       "    </tr>\n",
       "    <tr>\n",
       "      <th>135</th>\n",
       "      <td>135</td>\n",
       "      <td>Kitchen Garden</td>\n",
       "      <td>Pick-up</td>\n",
       "      <td>131 South Silver Ln.</td>\n",
       "      <td>Sunderland</td>\n",
       "      <td>01375</td>\n",
       "      <td>1 to 2</td>\n",
       "      <td>NaN</td>\n",
       "    </tr>\n",
       "    <tr>\n",
       "      <th>136</th>\n",
       "      <td>136</td>\n",
       "      <td>Red Fire Farm</td>\n",
       "      <td>Pick-up</td>\n",
       "      <td>184 Meadow Rd.</td>\n",
       "      <td>Montague</td>\n",
       "      <td>01351</td>\n",
       "      <td>1 to 2</td>\n",
       "      <td>NaN</td>\n",
       "    </tr>\n",
       "  </tbody>\n",
       "</table>\n",
       "<p>137 rows × 8 columns</p>\n",
       "</div>"
      ],
      "text/plain": [
       "0    Ref number                                     Name     Type  \\\n",
       "0    Ref number                                     Name     Type   \n",
       "1             1                  Amherst Survival Center   Agency   \n",
       "2             2                  Palmer Food Share, Inc.   Agency   \n",
       "3             3  Franklin County Community Meals Program   Agency   \n",
       "4             4                     Freedom House of God   Agency   \n",
       "..          ...                                      ...      ...   \n",
       "132         132                           Riverland Farm  Pick-up   \n",
       "133         133                           Next Barn Over  Pick-up   \n",
       "134         134                              Warner Farm  Pick-up   \n",
       "135         135                           Kitchen Garden  Pick-up   \n",
       "136         136                            Red Fire Farm  Pick-up   \n",
       "\n",
       "0                  Address    City/Town     Zipcode  Number of pallets  \\\n",
       "0                  Address    City/Town     Zipcode  Number of pallets   \n",
       "1      138 Sunderland Road      Amherst       01002                  2   \n",
       "2         39 Walnut Street       Palmer  01069-1731                  2   \n",
       "3     118 East Main Street       Orange       01364                  1   \n",
       "4         563 Union Street  Springfield  01139-0187                  1   \n",
       "..                     ...          ...         ...                ...   \n",
       "132          206 River Rd.   Sunderland       01375             1 to 2   \n",
       "133  15 Lawrence Plain Rd.       Hadley       01035             1 to 2   \n",
       "134      23 South Main St.   Sunderland       01375             1 to 2   \n",
       "135   131 South Silver Ln.   Sunderland       01375             1 to 2   \n",
       "136         184 Meadow Rd.     Montague       01351             1 to 2   \n",
       "\n",
       "0    Frequency (monthly except if noted)  \n",
       "0    Frequency (monthly except if noted)  \n",
       "1                                    NaN  \n",
       "2                                    NaN  \n",
       "3                                    NaN  \n",
       "4                                    NaN  \n",
       "..                                   ...  \n",
       "132                                  NaN  \n",
       "133                                  NaN  \n",
       "134                                  NaN  \n",
       "135                                  NaN  \n",
       "136                                  NaN  \n",
       "\n",
       "[137 rows x 8 columns]"
      ]
     },
     "execution_count": 3,
     "metadata": {},
     "output_type": "execute_result"
    }
   ],
   "source": [
    "locations"
   ]
  },
  {
   "cell_type": "code",
   "execution_count": 4,
   "id": "01fce996",
   "metadata": {},
   "outputs": [],
   "source": [
    "locations = locations.drop(0)"
   ]
  },
  {
   "cell_type": "code",
   "execution_count": 5,
   "id": "c226b1f4",
   "metadata": {},
   "outputs": [],
   "source": [
    "locations = locations.fillna(1)"
   ]
  },
  {
   "cell_type": "code",
   "execution_count": 6,
   "id": "7b78524b",
   "metadata": {},
   "outputs": [],
   "source": [
    "locations = locations.replace(['Weekly', 'Twice a month', 'weekly'], [4,2,4])"
   ]
  },
  {
   "cell_type": "code",
   "execution_count": 7,
   "id": "f678b09c",
   "metadata": {},
   "outputs": [],
   "source": [
    "locations = locations.loc[:124]"
   ]
  },
  {
   "cell_type": "code",
   "execution_count": 8,
   "id": "197176c5",
   "metadata": {},
   "outputs": [],
   "source": [
    "locations.to_excel(os.path.abspath('./cleandata/locdem.xlsx'), index=False, index_label=False)"
   ]
  },
  {
   "cell_type": "code",
   "execution_count": 9,
   "id": "0db66a99",
   "metadata": {},
   "outputs": [],
   "source": [
    "times = pd.read_json(os.path.abspath('./data/travel_times_matrix.json'))\n"
   ]
  },
  {
   "cell_type": "code",
   "execution_count": 12,
   "id": "73a14d60",
   "metadata": {},
   "outputs": [
    {
     "data": {
      "text/plain": [
       "0      2013\n",
       "1      2391\n",
       "2      1594\n",
       "3      4075\n",
       "4       220\n",
       "       ... \n",
       "132    2408\n",
       "133    1818\n",
       "134    2305\n",
       "135    2432\n",
       "136    3184\n",
       "Name: 9, Length: 137, dtype: int64"
      ]
     },
     "execution_count": 12,
     "metadata": {},
     "output_type": "execute_result"
    }
   ],
   "source": [
    "times.loc[9]"
   ]
  },
  {
   "cell_type": "code",
   "execution_count": null,
   "id": "c75cd08c",
   "metadata": {},
   "outputs": [],
   "source": []
  }
 ],
 "metadata": {
  "kernelspec": {
   "display_name": "Python 3 (ipykernel)",
   "language": "python",
   "name": "python3"
  },
  "language_info": {
   "codemirror_mode": {
    "name": "ipython",
    "version": 3
   },
   "file_extension": ".py",
   "mimetype": "text/x-python",
   "name": "python",
   "nbconvert_exporter": "python",
   "pygments_lexer": "ipython3",
   "version": "3.10.4"
  }
 },
 "nbformat": 4,
 "nbformat_minor": 5
}
