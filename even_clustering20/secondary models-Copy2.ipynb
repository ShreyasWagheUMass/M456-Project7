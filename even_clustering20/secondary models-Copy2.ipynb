{
 "cells": [
  {
   "cell_type": "code",
   "execution_count": 1,
   "id": "8d75beaf",
   "metadata": {},
   "outputs": [],
   "source": [
    "import numpy as np\n",
    "import pandas as pd\n",
    "import matplotlib.pyplot as plt\n",
    "import json\n",
    "import os\n",
    "import scipy as sp\n",
    "from collections import defaultdict\n",
    "from itertools import product, permutations\n",
    "import gurobipy as gb\n",
    "from gurobipy import GRB\n",
    "\n",
    "repeats = json.load(open('../cleanerdata/repeats.json'))\n",
    "repeats = {int(k):v for k,v in repeats.items()}\n",
    "\n",
    "locdem = pd.read_excel('../cleanerdata/locdem.xlsx')\n",
    "\n",
    "q = locdem['Number of pallets'].to_numpy().astype(float).tolist()\n",
    "q = [0] + q\n",
    "q.extend([v['dem'] for v in repeats.values()])\n",
    "\n",
    "locs = pd.read_excel('../cleanerdata/locations.xlsx')\n",
    "longs, lats = locs['long'].to_numpy().tolist(), locs['lat'].to_numpy().tolist()\n",
    "longs.extend([longs[v['map']] for v in repeats.values()])\n",
    "lats.extend([lats[v['map']] for v in repeats.values()])\n",
    "\n",
    "distmat = pd.read_json('../cleanerdata/distmat.json').to_numpy()\n",
    "timemat = pd.read_json('../cleanerdata/timemat.json').to_numpy()\n",
    "def get(i):\n",
    "    try:\n",
    "        i = repeats[i]['map']\n",
    "    except KeyError:\n",
    "        pass\n",
    "    return i\n",
    "\n",
    "def cost(i,j):\n",
    "    i,j = get(i), get(j)\n",
    "    return distmat[i,j]\n",
    "def time(i,j):\n",
    "    i,j = get(i), get(j)\n",
    "    return timemat[i,j]\n",
    "\n",
    "def location(i):\n",
    "    return longs[i], lats[i]"
   ]
  },
  {
   "cell_type": "code",
   "execution_count": 2,
   "id": "9010b0cd",
   "metadata": {},
   "outputs": [
    {
     "data": {
      "text/plain": [
       "[[0, 46, 61, 60, 3, 0],\n",
       " [0, 51, 105, 24, 82, 111, 5, 0],\n",
       " [0, 68, 49, 1, 45, 0],\n",
       " [0, 124, 67, 105, 85, 111, 34, 0],\n",
       " [0, 2, 86, 89, 12, 123, 0],\n",
       " [0, 28, 95, 103, 19, 119, 40, 0],\n",
       " [0, 88, 66, 12, 0],\n",
       " [0, 115, 26, 40, 87, 119, 22, 0],\n",
       " [0, 43, 32, 107, 120, 4, 106, 0],\n",
       " [0, 43, 78, 9, 32, 0],\n",
       " [0, 43, 106, 69, 40, 113, 32, 0],\n",
       " [0, 43, 9, 32, 107, 0],\n",
       " [0, 25, 99, 13, 74, 20, 0],\n",
       " [0, 53, 29, 54, 5, 0],\n",
       " [0, 64, 65, 70, 5, 0],\n",
       " [0, 90, 80, 76, 23, 100, 83, 5, 0],\n",
       " [0, 11, 110, 33, 6, 0],\n",
       " [0, 75, 31, 33, 84, 6, 0],\n",
       " [0, 40, 108, 6, 35, 33, 0],\n",
       " [0, 110, 81, 93, 33, 6, 108, 0],\n",
       " [0, 15, 109, 112, 117, 50, 0],\n",
       " [0, 47, 44, 101, 102, 0],\n",
       " [0, 59, 0],\n",
       " [0, 63, 7, 16, 48, 0],\n",
       " [0, 117, 79, 109, 18, 112, 58, 0],\n",
       " [0, 10, 97, 72, 98, 0],\n",
       " [0, 21, 122, 104, 17, 56, 57, 0],\n",
       " [0, 62, 122, 55, 104, 92, 0],\n",
       " [0, 97, 71, 98, 8, 27, 0],\n",
       " [0, 30, 39, 42, 14, 118, 77, 0],\n",
       " [0, 39, 121, 91, 42, 96, 0],\n",
       " [0, 39, 42, 118, 73, 0],\n",
       " [0, 42, 94, 52, 121, 39, 0],\n",
       " [0, 38, 41, 37, 36, 114, 0],\n",
       " [0, 38, 37, 41, 36, 0],\n",
       " [0, 41, 37, 36, 38, 116, 0],\n",
       " [0, 116, 38, 36, 41, 37, 114, 0]]"
      ]
     },
     "execution_count": 2,
     "metadata": {},
     "output_type": "execute_result"
    }
   ],
   "source": [
    "loops = json.load(open('./loops.json'))\n",
    "loops\n",
    "Loops = []\n",
    "for loop in loops:\n",
    "    L = []\n",
    "    for l in loop:\n",
    "        if l in repeats:\n",
    "            L.append(repeats[l]['map'])\n",
    "        else:\n",
    "            L.append(l)\n",
    "    Loops.append(L)\n",
    "loops = Loops\n",
    "loops"
   ]
  },
  {
   "cell_type": "code",
   "execution_count": 3,
   "id": "97b4d4ab",
   "metadata": {},
   "outputs": [],
   "source": [
    "h = np.zeros(len(loops), dtype=float)\n",
    "for i, loop in enumerate(loops):\n",
    "    for j in range(0, len(loop)-1):\n",
    "        arc = loop[j], loop[j+1]\n",
    "        h[i] += time(*arc)\n",
    "h = h/3600"
   ]
  },
  {
   "cell_type": "code",
   "execution_count": 4,
   "id": "c30bb6f6",
   "metadata": {},
   "outputs": [
    {
     "name": "stdout",
     "output_type": "stream",
     "text": [
      "Set parameter Username\n",
      "Academic license - for non-commercial use only - expires 2023-09-12\n"
     ]
    }
   ],
   "source": [
    "D = range(16)\n",
    "L = range(0, len(loops))\n",
    "T = range(5)\n",
    "#f = 3\n",
    "\n",
    "m = gb.Model()\n",
    "z = m.addVars(D, vtype=GRB.BINARY, name='z')\n",
    "y = m.addVars(L,T,D,vtype=GRB.BINARY, name='y')\n",
    "f = m.addVar(vtype=GRB.CONTINUOUS, name='f', lb=0.0)\n",
    "epsilon= m.addVars(T,T,L,L, vtype=GRB.CONTINUOUS, lb=0, name='epsilon')\n",
    "delta = m.addVars(T,T,L,L, vtype=GRB.CONTINUOUS, lb=0, name='delta')\n",
    "m.setObjective(z.sum('*')+1*epsilon.sum('*','*','*','*')+1*delta.sum('*','*','*','*') + f, GRB.MINIMIZE)\n",
    "'''for l in L:\n",
    "    expr = 0\n",
    "    for t in T:\n",
    "        for d in D:\n",
    "            expr += y[l,t,d]\n",
    "    m.addConstr(expr == 1)'''\n",
    "    \n",
    "m.addConstrs((sum((y[l,t,d] for t in T for d in D)) == 1 for l in L))\n",
    "m.addConstrs((\n",
    "    sum([h[l]*y[l,t,d] for l in L]) <= 8 for t in T for d in D\n",
    "))\n",
    "m.addConstrs((y[l,t,d] <= z[d] for l in L for t in T for d in D))\n",
    "\n",
    "for pair in permutations(T, 2):\n",
    "    t1, t2 = pair\n",
    "    m.addConstrs((\n",
    "        sum([h[l]*y[l,t1,d] for l in L]) - sum([h[l]*y[l,t2,d] for l in L]) <= f for d in D\n",
    "    ))\n",
    "\n",
    "node_to_loops = defaultdict(list)\n",
    "for node in range(1,181):\n",
    "    for i,loop in enumerate(loops):\n",
    "        if node in loop:\n",
    "            node_to_loops[node].append(i)\n",
    "    \n",
    "doubles = list(filter(lambda lst: len(lst) == 2, node_to_loops.values()))\n",
    "triples = list(filter(lambda lst: len(lst) == 3, node_to_loops.values()))\n",
    "quadruples = list(filter(lambda lst: len(lst) == 4, node_to_loops.values()))\n",
    "\n",
    "for t1, t2 in product(T,T):\n",
    "    for looops in doubles:\n",
    "        for d1,d2 in product(D, D):\n",
    "            for l1, l2 in product(looops,looops):\n",
    "                if abs(d1-d2) <= 4 or abs(d1 - d2) >= 10:\n",
    "                    m.addConstr(y[l1,t1,d1]+y[l2,t2,d2] <= 1+epsilon[t1,t2,l1,l2])\n",
    "\n",
    "for t1, t2 in product(T,T):\n",
    "    for looops in quadruples:\n",
    "        for d1,d2 in product(D, D):\n",
    "            for l1, l2 in product(looops, looops):\n",
    "                if abs(d1-d2) not in (4,8,12):\n",
    "                    m.addConstr(y[l1,t1,d1]+y[l2,t2,d2] <= 1+delta[t1,t2,l1,l2])"
   ]
  },
  {
   "cell_type": "code",
   "execution_count": null,
   "id": "25b8e5b1",
   "metadata": {},
   "outputs": [
    {
     "name": "stdout",
     "output_type": "stream",
     "text": [
      "Gurobi Optimizer version 9.5.2 build v9.5.2rc0 (mac64[rosetta2])\n",
      "Thread count: 8 physical cores, 8 logical processors, using up to 8 threads\n",
      "Optimize a model with 1333797 rows, 71427 columns and 4020000 nonzeros\n",
      "Model fingerprint: 0x01439c1e\n",
      "Variable types: 68451 continuous, 2976 integer (2976 binary)\n",
      "Coefficient statistics:\n",
      "  Matrix range     [3e-01, 4e+00]\n",
      "  Objective range  [1e+00, 1e+00]\n",
      "  Bounds range     [1e+00, 1e+00]\n",
      "  RHS range        [1e+00, 8e+00]\n",
      "Found heuristic solution: objective 145.4086111\n",
      "Presolve removed 833628 rows and 64700 columns (presolve time = 5s) ...\n",
      "Presolve removed 833713 rows and 65665 columns\n",
      "Presolve time: 9.71s\n",
      "Presolved: 500084 rows, 5762 columns, 1509847 nonzeros\n",
      "Variable types: 81 continuous, 5681 integer (5681 binary)\n",
      "\n",
      "Root simplex log...\n",
      "\n",
      "Iteration    Objective       Primal Inf.    Dual Inf.      Time\n",
      "       0    4.9000000e+01   0.000000e+00   0.000000e+00     12s\n",
      "       0    4.9000000e+01   0.000000e+00   0.000000e+00     12s\n",
      "\n",
      "Use crossover to convert LP symmetric solution to basic solution...\n",
      "\n",
      "Root crossover log...\n",
      "\n",
      "     289 DPushes remaining with DInf 0.0000000e+00                12s\n",
      "       0 DPushes remaining with DInf 0.0000000e+00                12s\n",
      "\n",
      "      17 PPushes remaining with PInf 0.0000000e+00                12s\n",
      "       0 PPushes remaining with PInf 0.0000000e+00                12s\n",
      "\n",
      "  Push phase complete: Pinf 0.0000000e+00, Dinf 1.0769163e-14     12s\n",
      "\n",
      "\n",
      "Root simplex log...\n",
      "\n",
      "Iteration    Objective       Primal Inf.    Dual Inf.      Time\n",
      "     222    4.9000000e+01   0.000000e+00   0.000000e+00     12s\n",
      "     222    4.9000000e+01   0.000000e+00   0.000000e+00     13s\n",
      "     222    4.9000000e+01   0.000000e+00   0.000000e+00     13s\n",
      "\n",
      "Root relaxation: objective 4.900000e+01, 222 iterations, 1.77 seconds (1.82 work units)\n",
      "Total elapsed time = 15.59s\n",
      "\n",
      "    Nodes    |    Current Node    |     Objective Bounds      |     Work\n",
      " Expl Unexpl |  Obj  Depth IntInf | Incumbent    BestBd   Gap | It/Node Time\n",
      "\n",
      "     0     0   49.00000    0   93  145.40861   49.00000  66.3%     -   17s\n",
      "H    0     0                      98.1408333   49.00000  50.1%     -   17s\n",
      "     0     0   49.00000    0  132   98.14083   49.00000  50.1%     -   26s\n",
      "H    0     0                      78.2308333   49.00000  37.4%     -   29s\n",
      "     0     0   49.00000    0   92   78.23083   49.00000  37.4%     -   43s\n",
      "H    0     0                      77.0863889   49.00000  36.4%     -   44s\n",
      "     0     0   49.00000    0   96   77.08639   49.00000  36.4%     -   53s\n",
      "H    0     0                      66.7944444   49.00000  26.6%     -   58s\n",
      "     0     0   49.00000    0  100   66.79444   49.00000  26.6%     -   74s\n",
      "     0     0   49.00000    0  138   66.79444   49.00000  26.6%     -   89s\n",
      "     0     0   49.00000    0   92   66.79444   49.00000  26.6%     -  102s\n",
      "     0     0   49.00000    0   92   66.79444   49.00000  26.6%     -  103s\n",
      "     0     2   49.00000    0   92   66.79444   49.00000  26.6%     -  261s\n",
      "     1     4   49.00000    1  184   66.79444   49.00000  26.6%  3399  265s\n",
      "     3     8   49.00000    2  140   66.79444   49.00000  26.6%  2421  284s\n"
     ]
    }
   ],
   "source": [
    "m.optimize()"
   ]
  },
  {
   "cell_type": "code",
   "execution_count": null,
   "id": "0602e0c6",
   "metadata": {},
   "outputs": [],
   "source": [
    "soln = json.loads(m.getJSONSolution())"
   ]
  },
  {
   "cell_type": "code",
   "execution_count": null,
   "id": "30e4d8ca",
   "metadata": {},
   "outputs": [],
   "source": [
    "soln;"
   ]
  },
  {
   "cell_type": "code",
   "execution_count": null,
   "id": "c591dfce",
   "metadata": {},
   "outputs": [],
   "source": [
    "Y = np.array(list(map(lambda var: var.x, y.values()))).reshape(len(L), len(T), len(D))\n",
    "Y = Y.astype(int)\n",
    "Y.tolist()\n",
    "Y.nonzero()"
   ]
  },
  {
   "cell_type": "code",
   "execution_count": null,
   "id": "8ac8bd7c",
   "metadata": {},
   "outputs": [],
   "source": [
    "json.dump(Y.tolist(), open('./finalroutings.json', 'w'))"
   ]
  },
  {
   "cell_type": "code",
   "execution_count": null,
   "id": "3333ffbc",
   "metadata": {},
   "outputs": [],
   "source": [
    "json.dump(loops, open('./finalloops.json', 'w'))"
   ]
  },
  {
   "cell_type": "code",
   "execution_count": null,
   "id": "c19fae5f",
   "metadata": {},
   "outputs": [],
   "source": [
    "soln"
   ]
  },
  {
   "cell_type": "code",
   "execution_count": null,
   "id": "82ac5c5a",
   "metadata": {},
   "outputs": [],
   "source": [
    "for d in D:\n",
    "    print(\"loops per truck on day {}:{}\".format(d, sum(Y[:,:,d])))"
   ]
  },
  {
   "cell_type": "code",
   "execution_count": null,
   "id": "26d2ad9f",
   "metadata": {},
   "outputs": [],
   "source": [
    "sum(h)"
   ]
  },
  {
   "cell_type": "code",
   "execution_count": null,
   "id": "c68c2926",
   "metadata": {},
   "outputs": [],
   "source": [
    "list(doubles)"
   ]
  },
  {
   "cell_type": "code",
   "execution_count": null,
   "id": "32f89ace",
   "metadata": {},
   "outputs": [],
   "source": [
    "#print(m.display())"
   ]
  },
  {
   "cell_type": "code",
   "execution_count": null,
   "id": "776ced2f",
   "metadata": {},
   "outputs": [],
   "source": [
    "#m.computeIIS()\n",
    "#m.write(\"model.ilp\")"
   ]
  },
  {
   "cell_type": "code",
   "execution_count": null,
   "id": "31bf6ead",
   "metadata": {},
   "outputs": [],
   "source": [
    "h"
   ]
  },
  {
   "cell_type": "code",
   "execution_count": null,
   "id": "eb290702",
   "metadata": {},
   "outputs": [],
   "source": [
    "list(quadruples)"
   ]
  },
  {
   "cell_type": "code",
   "execution_count": null,
   "id": "24a356c2",
   "metadata": {},
   "outputs": [],
   "source": [
    "len(loops)"
   ]
  },
  {
   "cell_type": "code",
   "execution_count": null,
   "id": "267ceb26",
   "metadata": {},
   "outputs": [],
   "source": []
  }
 ],
 "metadata": {
  "kernelspec": {
   "display_name": "Python 3 (ipykernel)",
   "language": "python",
   "name": "python3"
  },
  "language_info": {
   "codemirror_mode": {
    "name": "ipython",
    "version": 3
   },
   "file_extension": ".py",
   "mimetype": "text/x-python",
   "name": "python",
   "nbconvert_exporter": "python",
   "pygments_lexer": "ipython3",
   "version": "3.10.4"
  }
 },
 "nbformat": 4,
 "nbformat_minor": 5
}
