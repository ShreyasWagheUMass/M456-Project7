{
 "cells": [
  {
   "cell_type": "code",
   "execution_count": 1,
   "id": "8d75beaf",
   "metadata": {},
   "outputs": [],
   "source": [
    "import numpy as np\n",
    "import pandas as pd\n",
    "import matplotlib.pyplot as plt\n",
    "import json\n",
    "import os\n",
    "import scipy as sp\n",
    "from collections import defaultdict\n",
    "from itertools import product, permutations\n",
    "import gurobipy as gb\n",
    "from gurobipy import GRB\n",
    "\n",
    "repeats = json.load(open('../cleanerdata/repeats.json'))\n",
    "repeats = {int(k):v for k,v in repeats.items()}\n",
    "\n",
    "locdem = pd.read_excel('../cleanerdata/locdem.xlsx')\n",
    "\n",
    "q = locdem['Number of pallets'].to_numpy().astype(float).tolist()\n",
    "q = [0] + q\n",
    "q.extend([v['dem'] for v in repeats.values()])\n",
    "\n",
    "locs = pd.read_excel('../cleanerdata/locations.xlsx')\n",
    "longs, lats = locs['long'].to_numpy().tolist(), locs['lat'].to_numpy().tolist()\n",
    "longs.extend([longs[v['map']] for v in repeats.values()])\n",
    "lats.extend([lats[v['map']] for v in repeats.values()])\n",
    "\n",
    "distmat = pd.read_json('../cleanerdata/distmat.json').to_numpy()\n",
    "timemat = pd.read_json('../cleanerdata/timemat.json').to_numpy()\n",
    "def get(i):\n",
    "    try:\n",
    "        i = repeats[i]['map']\n",
    "    except KeyError:\n",
    "        pass\n",
    "    return i\n",
    "\n",
    "def cost(i,j):\n",
    "    i,j = get(i), get(j)\n",
    "    return distmat[i,j]\n",
    "def time(i,j):\n",
    "    i,j = get(i), get(j)\n",
    "    return timemat[i,j]\n",
    "\n",
    "def location(i):\n",
    "    return longs[i], lats[i]"
   ]
  },
  {
   "cell_type": "code",
   "execution_count": 2,
   "id": "9010b0cd",
   "metadata": {},
   "outputs": [
    {
     "data": {
      "text/plain": [
       "[[0, 1, 45, 101, 44, 16, 0],\n",
       " [0, 59, 0],\n",
       " [0, 102, 47, 7, 48, 0],\n",
       " [0, 12, 123, 0],\n",
       " [0, 88, 86, 2, 0],\n",
       " [0, 12, 66, 89, 95, 19, 0],\n",
       " [0, 46, 61, 60, 3, 0],\n",
       " [0, 51, 49, 0],\n",
       " [0, 69, 120, 4, 40, 0],\n",
       " [0, 64, 118, 77, 5, 0],\n",
       " [0, 111, 34, 5, 0],\n",
       " [0, 5, 0],\n",
       " [0, 111, 5, 0],\n",
       " [0, 40, 108, 35, 6, 0],\n",
       " [0, 115, 26, 40, 0],\n",
       " [0, 40, 108, 6, 0],\n",
       " [0, 57, 72, 98, 97, 0],\n",
       " [0, 92, 0],\n",
       " [0, 98, 27, 8, 71, 97, 0],\n",
       " [0, 32, 0],\n",
       " [0, 107, 32, 9, 106, 0],\n",
       " [0, 32, 9, 113, 106, 0],\n",
       " [0, 32, 0],\n",
       " [0, 10, 17, 56, 63, 0],\n",
       " [0, 55, 122, 0],\n",
       " [0, 38, 122, 21, 62, 0],\n",
       " [0, 75, 110, 31, 33, 0],\n",
       " [0, 84, 33, 0],\n",
       " [0, 110, 11, 81, 33, 0],\n",
       " [0, 13, 74, 20, 43, 0],\n",
       " [0, 85, 43, 0],\n",
       " [0, 43, 0],\n",
       " [0, 43, 25, 99, 0],\n",
       " [0, 42, 73, 0],\n",
       " [0, 42, 14, 78, 0],\n",
       " [0, 42, 118, 0],\n",
       " [0, 42, 94, 96, 0],\n",
       " [0, 41, 117, 0],\n",
       " [0, 41, 82, 79, 104, 0],\n",
       " [0, 117, 15, 41, 104, 0],\n",
       " [0, 114, 38, 116, 50, 0],\n",
       " [0, 38, 116, 0],\n",
       " [0, 38, 18, 109, 114, 0],\n",
       " [0, 22, 119, 0],\n",
       " [0, 93, 28, 33, 6, 0],\n",
       " [0, 6, 103, 87, 119, 0],\n",
       " [0, 100, 76, 23, 0],\n",
       " [0, 121, 91, 0],\n",
       " [0, 121, 52, 29, 53, 54, 0],\n",
       " [0, 58, 124, 0],\n",
       " [0, 67, 68, 105, 112, 0],\n",
       " [0, 112, 105, 24, 107, 0],\n",
       " [0, 39, 83, 80, 65, 0],\n",
       " [0, 39, 30, 70, 90, 0],\n",
       " [0, 39, 0],\n",
       " [0, 39, 0],\n",
       " [0, 37, 36, 0],\n",
       " [0, 41, 37, 36, 0],\n",
       " [0, 109, 37, 36, 0],\n",
       " [0, 37, 36, 0]]"
      ]
     },
     "execution_count": 2,
     "metadata": {},
     "output_type": "execute_result"
    }
   ],
   "source": [
    "loops = json.load(open('./loops.json'))\n",
    "loops\n",
    "Loops = []\n",
    "for loop in loops:\n",
    "    L = []\n",
    "    for l in loop:\n",
    "        if l in repeats:\n",
    "            L.append(repeats[l]['map'])\n",
    "        else:\n",
    "            L.append(l)\n",
    "    Loops.append(L)\n",
    "loops = Loops\n",
    "loops"
   ]
  },
  {
   "cell_type": "code",
   "execution_count": 3,
   "id": "97b4d4ab",
   "metadata": {},
   "outputs": [],
   "source": [
    "h = np.zeros(len(loops), dtype=float)\n",
    "for i, loop in enumerate(loops):\n",
    "    for j in range(0, len(loop)-1):\n",
    "        arc = loop[j], loop[j+1]\n",
    "        h[i] += time(*arc)\n",
    "h = h/3600"
   ]
  },
  {
   "cell_type": "code",
   "execution_count": 4,
   "id": "c30bb6f6",
   "metadata": {},
   "outputs": [
    {
     "name": "stdout",
     "output_type": "stream",
     "text": [
      "Set parameter Username\n",
      "Academic license - for non-commercial use only - expires 2023-09-12\n"
     ]
    }
   ],
   "source": [
    "D = range(16)\n",
    "L = range(0, len(loops))\n",
    "T = range(5)\n",
    "#f = 3\n",
    "\n",
    "m = gb.Model()\n",
    "z = m.addVars(D, vtype=GRB.BINARY, name='z')\n",
    "y = m.addVars(L,T,D,vtype=GRB.BINARY, name='y')\n",
    "f = m.addVar(vtype=GRB.CONTINUOUS, name='f', lb=0.0)\n",
    "epsilon= m.addVars(T,T,L,L, vtype=GRB.CONTINUOUS, lb=0, name='epsilon')\n",
    "delta = m.addVars(T,T,L,L, vtype=GRB.CONTINUOUS, lb=0, name='delta')\n",
    "m.setObjective(z.sum('*')+1*epsilon.sum('*','*','*','*')+1*delta.sum('*','*','*','*') + f, GRB.MINIMIZE)\n",
    "'''for l in L:\n",
    "    expr = 0\n",
    "    for t in T:\n",
    "        for d in D:\n",
    "            expr += y[l,t,d]\n",
    "    m.addConstr(expr == 1)'''\n",
    "    \n",
    "m.addConstrs((sum((y[l,t,d] for t in T for d in D)) == 1 for l in L))\n",
    "m.addConstrs((\n",
    "    sum([h[l]*y[l,t,d] for l in L]) <= 8 for t in T for d in D\n",
    "))\n",
    "m.addConstrs((y[l,t,d] <= z[d] for l in L for t in T for d in D))\n",
    "\n",
    "for pair in permutations(T, 2):\n",
    "    t1, t2 = pair\n",
    "    m.addConstrs((\n",
    "        sum([h[l]*y[l,t1,d] for l in L]) - sum([h[l]*y[l,t2,d] for l in L]) <= f for d in D\n",
    "    ))\n",
    "\n",
    "node_to_loops = defaultdict(list)\n",
    "for node in range(1,181):\n",
    "    for i,loop in enumerate(loops):\n",
    "        if node in loop:\n",
    "            node_to_loops[node].append(i)\n",
    "    \n",
    "doubles = list(filter(lambda lst: len(lst) == 2, node_to_loops.values()))\n",
    "triples = list(filter(lambda lst: len(lst) == 3, node_to_loops.values()))\n",
    "quadruples = list(filter(lambda lst: len(lst) == 4, node_to_loops.values()))\n",
    "\n",
    "for t1, t2 in product(T,T):\n",
    "    for looops in doubles:\n",
    "        for d1,d2 in product(D, D):\n",
    "            for l1, l2 in product(looops,looops):\n",
    "                if abs(d1-d2) <= 4 or abs(d1 - d2) >= 10:\n",
    "                    m.addConstr(y[l1,t1,d1]+y[l2,t2,d2] <= 1+epsilon[t1,t2,l1,l2])\n",
    "\n",
    "for t1, t2 in product(T,T):\n",
    "    for looops in quadruples:\n",
    "        for d1,d2 in product(D, D):\n",
    "            for l1, l2 in product(looops, looops):\n",
    "                if abs(d1-d2) not in (4,8,12):\n",
    "                    m.addConstr(y[l1,t1,d1]+y[l2,t2,d2] <= 1+delta[t1,t2,l1,l2])"
   ]
  },
  {
   "cell_type": "code",
   "execution_count": 5,
   "id": "25b8e5b1",
   "metadata": {},
   "outputs": [
    {
     "name": "stdout",
     "output_type": "stream",
     "text": [
      "Gurobi Optimizer version 9.5.2 build v9.5.2rc0 (mac64[rosetta2])\n",
      "Thread count: 8 physical cores, 8 logical processors, using up to 8 threads\n",
      "Optimize a model with 1335660 rows, 184817 columns and 4042080 nonzeros\n",
      "Model fingerprint: 0x80bf01ab\n",
      "Variable types: 180001 continuous, 4816 integer (4816 binary)\n",
      "Coefficient statistics:\n",
      "  Matrix range     [3e-01, 4e+00]\n",
      "  Objective range  [1e+00, 1e+00]\n",
      "  Bounds range     [1e+00, 1e+00]\n",
      "  RHS range        [1e+00, 8e+00]\n",
      "Found heuristic solution: objective 208.4641666\n",
      "Presolve removed 516795 rows and 174175 columns (presolve time = 5s) ...\n",
      "Presolve removed 516970 rows and 175650 columns (presolve time = 10s) ...\n",
      "Presolve removed 516890 rows and 175570 columns\n",
      "Presolve time: 11.33s\n",
      "Presolved: 818770 rows, 9247 columns, 2471950 nonzeros\n",
      "Variable types: 81 continuous, 9166 integer (9166 binary)\n",
      "\n",
      "Root simplex log...\n",
      "\n",
      "Iteration    Objective       Primal Inf.    Dual Inf.      Time\n",
      "       0    7.0000000e+01   0.000000e+00   6.682778e+00     16s\n",
      "     124    7.0000000e+01   0.000000e+00   0.000000e+00     16s\n",
      "     124    7.0000000e+01   0.000000e+00   0.000000e+00     16s\n",
      "\n",
      "Use crossover to convert LP symmetric solution to basic solution...\n",
      "\n",
      "Root crossover log...\n",
      "\n",
      "       0 DPushes remaining with DInf 0.0000000e+00                16s\n",
      "\n",
      "      69 PPushes remaining with PInf 0.0000000e+00                16s\n",
      "       0 PPushes remaining with PInf 0.0000000e+00                16s\n",
      "\n",
      "  Push phase complete: Pinf 0.0000000e+00, Dinf 2.0122792e-14     16s\n",
      "\n",
      "\n",
      "Root simplex log...\n",
      "\n",
      "Iteration    Objective       Primal Inf.    Dual Inf.      Time\n",
      "     845    7.0000000e+01   0.000000e+00   0.000000e+00     16s\n",
      "     845    7.0000000e+01   0.000000e+00   0.000000e+00     16s\n",
      "     845    7.0000000e+01   0.000000e+00   0.000000e+00     16s\n",
      "\n",
      "Root relaxation: objective 7.000000e+01, 845 iterations, 3.02 seconds (3.05 work units)\n",
      "Total elapsed time = 24.38s\n",
      "Total elapsed time = 26.03s\n",
      "\n",
      "    Nodes    |    Current Node    |     Objective Bounds      |     Work\n",
      " Expl Unexpl |  Obj  Depth IntInf | Incumbent    BestBd   Gap | It/Node Time\n",
      "\n",
      "     0     0   70.00000    0  227  208.46417   70.00000  66.4%     -   30s\n",
      "H    0     0                     194.2188889   70.00000  64.0%     -   31s\n",
      "     0     0   70.00000    0  311  194.21889   70.00000  64.0%     -   53s\n",
      "H    0     0                     182.9847222   70.00000  61.7%     -   59s\n",
      "H    0     0                      89.0125000   70.00000  21.4%     -   60s\n",
      "     0     0   70.00000    0  306   89.01250   70.00000  21.4%     -   86s\n",
      "H    0     0                      88.9108333   70.00000  21.3%     -   88s\n",
      "     0     0   70.00000    0  321   88.91083   70.00000  21.3%     -  119s\n",
      "H    0     0                      82.2758333   70.00000  14.9%     -  135s\n",
      "     0     0   70.00000    0  308   82.27583   70.00000  14.9%     -  162s\n",
      "     0     0          -    0        82.27583   70.00000  14.9%     -  186s\n",
      "\n",
      "Cutting planes:\n",
      "  Lift-and-project: 8\n",
      "  Implied bound: 75\n",
      "  MIR: 1805\n",
      "  StrongCG: 1\n",
      "  Flow cover: 77\n",
      "  Zero half: 11\n",
      "  RLT: 804\n",
      "  BQP: 1032\n",
      "\n",
      "Explored 1 nodes (47413 simplex iterations) in 186.23 seconds (356.15 work units)\n",
      "Thread count was 8 (of 8 available processors)\n",
      "\n",
      "Solution count 6: 82.2758 88.9108 89.0125 ... 208.464\n",
      "\n",
      "Solve interrupted\n",
      "Best objective 8.227583333333e+01, best bound 7.000000000000e+01, gap 14.9203%\n"
     ]
    }
   ],
   "source": [
    "m.optimize()"
   ]
  },
  {
   "cell_type": "code",
   "execution_count": 6,
   "id": "0602e0c6",
   "metadata": {},
   "outputs": [],
   "source": [
    "soln = json.loads(m.getJSONSolution())"
   ]
  },
  {
   "cell_type": "code",
   "execution_count": 7,
   "id": "30e4d8ca",
   "metadata": {},
   "outputs": [],
   "source": [
    "soln;"
   ]
  },
  {
   "cell_type": "code",
   "execution_count": 8,
   "id": "c591dfce",
   "metadata": {},
   "outputs": [
    {
     "data": {
      "text/plain": [
       "(array([ 0,  1,  2,  3,  4,  5,  6,  7,  8,  9, 10, 11, 12, 13, 14, 15, 16,\n",
       "        17, 18, 19, 20, 21, 22, 23, 24, 25, 26, 27, 28, 29, 30, 31, 32, 33,\n",
       "        34, 35, 36, 37, 38, 39, 40, 41, 42, 43, 44, 45, 46, 47, 48, 49, 50,\n",
       "        51, 52, 53, 54, 55, 56, 57, 58, 59]),\n",
       " array([2, 2, 0, 0, 4, 1, 1, 4, 2, 1, 3, 1, 1, 1, 4, 0, 0, 0, 0, 1, 0, 3,\n",
       "        4, 2, 4, 3, 0, 4, 0, 3, 4, 3, 2, 4, 1, 3, 2, 1, 2, 1, 2, 2, 4, 0,\n",
       "        4, 3, 3, 2, 2, 4, 3, 2, 3, 1, 2, 3, 4, 2, 0, 0]),\n",
       " array([11, 15,  9,  1,  9,  7, 11,  7, 15,  9, 13,  1,  5,  3,  7, 11,  7,\n",
       "        15, 13,  3, 15,  7, 11,  3, 11,  5, 11, 15,  3, 11,  3, 15,  7,  5,\n",
       "        13,  1,  9, 13, 13,  5,  9,  1, 13,  7,  7, 15,  9,  5, 13,  1, 13,\n",
       "         7,  7, 15, 11,  3, 13,  1,  5,  9]))"
      ]
     },
     "execution_count": 8,
     "metadata": {},
     "output_type": "execute_result"
    }
   ],
   "source": [
    "Y = np.array(list(map(lambda var: var.x, y.values()))).reshape(len(L), len(T), len(D))\n",
    "Y = Y.astype(int)\n",
    "Y.tolist()\n",
    "Y.nonzero()"
   ]
  },
  {
   "cell_type": "code",
   "execution_count": 9,
   "id": "8ac8bd7c",
   "metadata": {},
   "outputs": [],
   "source": [
    "json.dump(Y.tolist(), open('./finalroutings.json', 'w'))"
   ]
  },
  {
   "cell_type": "code",
   "execution_count": 10,
   "id": "3333ffbc",
   "metadata": {},
   "outputs": [],
   "source": [
    "json.dump(loops, open('./finalloops.json', 'w'))"
   ]
  },
  {
   "cell_type": "code",
   "execution_count": 11,
   "id": "c19fae5f",
   "metadata": {},
   "outputs": [
    {
     "data": {
      "text/plain": [
       "{'SolutionInfo': {'Status': 11,\n",
       "  'Runtime': 186.2465000152588,\n",
       "  'Work': 356.1523676990936,\n",
       "  'ObjVal': 82.27583333333334,\n",
       "  'ObjBound': 70.00000000000018,\n",
       "  'ObjBoundC': 70.00000000000018,\n",
       "  'MIPGap': 0.1492033910321964,\n",
       "  'IntVio': 0,\n",
       "  'BoundVio': 0,\n",
       "  'ConstrVio': 0,\n",
       "  'IterCount': 47413,\n",
       "  'BarIterCount': 0,\n",
       "  'NodeCount': 1,\n",
       "  'SolCount': 6,\n",
       "  'PoolObjBound': 70.00000000000018,\n",
       "  'PoolObjVal': [82.27583333333334,\n",
       "   88.91083333333333,\n",
       "   89.0125,\n",
       "   182.98472222222222,\n",
       "   194.2188888888889,\n",
       "   208.46416664123535]},\n",
       " 'Vars': [{'VarName': 'z[1]', 'X': 1},\n",
       "  {'VarName': 'z[3]', 'X': 1},\n",
       "  {'VarName': 'z[5]', 'X': 1},\n",
       "  {'VarName': 'z[7]', 'X': 1},\n",
       "  {'VarName': 'z[9]', 'X': 1},\n",
       "  {'VarName': 'z[11]', 'X': 1},\n",
       "  {'VarName': 'z[13]', 'X': 1},\n",
       "  {'VarName': 'z[15]', 'X': 1},\n",
       "  {'VarName': 'y[0,2,11]', 'X': 1},\n",
       "  {'VarName': 'y[1,2,15]', 'X': 1},\n",
       "  {'VarName': 'y[2,0,9]', 'X': 1},\n",
       "  {'VarName': 'y[3,0,1]', 'X': 1},\n",
       "  {'VarName': 'y[4,4,9]', 'X': 1},\n",
       "  {'VarName': 'y[5,1,7]', 'X': 1},\n",
       "  {'VarName': 'y[6,1,11]', 'X': 1},\n",
       "  {'VarName': 'y[7,4,7]', 'X': 1},\n",
       "  {'VarName': 'y[8,2,15]', 'X': 1},\n",
       "  {'VarName': 'y[9,1,9]', 'X': 1},\n",
       "  {'VarName': 'y[10,3,13]', 'X': 1},\n",
       "  {'VarName': 'y[11,1,1]', 'X': 1},\n",
       "  {'VarName': 'y[12,1,5]', 'X': 1},\n",
       "  {'VarName': 'y[13,1,3]', 'X': 1},\n",
       "  {'VarName': 'y[14,4,7]', 'X': 1},\n",
       "  {'VarName': 'y[15,0,11]', 'X': 1},\n",
       "  {'VarName': 'y[16,0,7]', 'X': 1},\n",
       "  {'VarName': 'y[17,0,15]', 'X': 1},\n",
       "  {'VarName': 'y[18,0,13]', 'X': 1},\n",
       "  {'VarName': 'y[19,1,3]', 'X': 1},\n",
       "  {'VarName': 'y[20,0,15]', 'X': 1},\n",
       "  {'VarName': 'y[21,3,7]', 'X': 1},\n",
       "  {'VarName': 'y[22,4,11]', 'X': 1},\n",
       "  {'VarName': 'y[23,2,3]', 'X': 1},\n",
       "  {'VarName': 'y[24,4,11]', 'X': 1},\n",
       "  {'VarName': 'y[25,3,5]', 'X': 1},\n",
       "  {'VarName': 'y[26,0,11]', 'X': 1},\n",
       "  {'VarName': 'y[27,4,15]', 'X': 1},\n",
       "  {'VarName': 'y[28,0,3]', 'X': 1},\n",
       "  {'VarName': 'y[29,3,11]', 'X': 1},\n",
       "  {'VarName': 'y[30,4,3]', 'X': 1},\n",
       "  {'VarName': 'y[31,3,15]', 'X': 1},\n",
       "  {'VarName': 'y[32,2,7]', 'X': 1},\n",
       "  {'VarName': 'y[33,4,5]', 'X': 1},\n",
       "  {'VarName': 'y[34,1,13]', 'X': 1},\n",
       "  {'VarName': 'y[35,3,1]', 'X': 1},\n",
       "  {'VarName': 'y[36,2,9]', 'X': 1},\n",
       "  {'VarName': 'y[37,1,13]', 'X': 1},\n",
       "  {'VarName': 'y[38,2,13]', 'X': 1},\n",
       "  {'VarName': 'y[39,1,5]', 'X': 1},\n",
       "  {'VarName': 'y[40,2,9]', 'X': 1},\n",
       "  {'VarName': 'y[41,2,1]', 'X': 1},\n",
       "  {'VarName': 'y[42,4,13]', 'X': 1},\n",
       "  {'VarName': 'y[43,0,7]', 'X': 1},\n",
       "  {'VarName': 'y[44,4,7]', 'X': 1},\n",
       "  {'VarName': 'y[45,3,15]', 'X': 1},\n",
       "  {'VarName': 'y[46,3,9]', 'X': 1},\n",
       "  {'VarName': 'y[47,2,5]', 'X': 1},\n",
       "  {'VarName': 'y[48,2,13]', 'X': 1},\n",
       "  {'VarName': 'y[49,4,1]', 'X': 1},\n",
       "  {'VarName': 'y[50,3,13]', 'X': 1},\n",
       "  {'VarName': 'y[51,2,7]', 'X': 1},\n",
       "  {'VarName': 'y[52,3,7]', 'X': 1},\n",
       "  {'VarName': 'y[53,1,15]', 'X': 1},\n",
       "  {'VarName': 'y[54,2,11]', 'X': 1},\n",
       "  {'VarName': 'y[55,3,3]', 'X': 1},\n",
       "  {'VarName': 'y[56,4,13]', 'X': 1},\n",
       "  {'VarName': 'y[57,2,1]', 'X': 1},\n",
       "  {'VarName': 'y[58,0,5]', 'X': 1},\n",
       "  {'VarName': 'y[59,0,9]', 'X': 1},\n",
       "  {'VarName': 'f', 'X': 1.2758333333333334},\n",
       "  {'VarName': 'epsilon[0,0,3,3]', 'X': 1},\n",
       "  {'VarName': 'epsilon[0,0,15,15]', 'X': 1},\n",
       "  {'VarName': 'epsilon[0,0,16,16]', 'X': 1},\n",
       "  {'VarName': 'epsilon[0,0,18,18]', 'X': 1},\n",
       "  {'VarName': 'epsilon[0,0,20,20]', 'X': 1},\n",
       "  {'VarName': 'epsilon[0,0,26,26]', 'X': 1},\n",
       "  {'VarName': 'epsilon[0,0,28,28]', 'X': 1},\n",
       "  {'VarName': 'epsilon[0,0,43,43]', 'X': 1},\n",
       "  {'VarName': 'epsilon[0,0,58,58]', 'X': 1},\n",
       "  {'VarName': 'epsilon[1,1,5,5]', 'X': 1},\n",
       "  {'VarName': 'epsilon[1,1,9,9]', 'X': 1},\n",
       "  {'VarName': 'epsilon[1,1,12,12]', 'X': 1},\n",
       "  {'VarName': 'epsilon[1,1,13,13]', 'X': 1},\n",
       "  {'VarName': 'epsilon[1,1,37,37]', 'X': 1},\n",
       "  {'VarName': 'epsilon[1,1,39,39]', 'X': 1},\n",
       "  {'VarName': 'epsilon[2,2,38,38]', 'X': 1},\n",
       "  {'VarName': 'epsilon[2,2,40,40]', 'X': 1},\n",
       "  {'VarName': 'epsilon[2,2,41,41]', 'X': 1},\n",
       "  {'VarName': 'epsilon[2,2,47,47]', 'X': 1},\n",
       "  {'VarName': 'epsilon[2,2,48,48]', 'X': 1},\n",
       "  {'VarName': 'epsilon[2,2,51,51]', 'X': 1},\n",
       "  {'VarName': 'epsilon[2,4,40,42]', 'X': 1},\n",
       "  {'VarName': 'epsilon[3,3,10,10]', 'X': 1},\n",
       "  {'VarName': 'epsilon[3,3,21,21]', 'X': 1},\n",
       "  {'VarName': 'epsilon[3,3,25,25]', 'X': 1},\n",
       "  {'VarName': 'epsilon[3,3,35,35]', 'X': 1},\n",
       "  {'VarName': 'epsilon[3,3,45,45]', 'X': 1},\n",
       "  {'VarName': 'epsilon[3,3,50,50]', 'X': 1},\n",
       "  {'VarName': 'epsilon[4,2,42,40]', 'X': 1},\n",
       "  {'VarName': 'epsilon[4,4,24,24]', 'X': 1},\n",
       "  {'VarName': 'epsilon[4,4,42,42]', 'X': 1},\n",
       "  {'VarName': 'delta[0,0,15,15]', 'X': 1},\n",
       "  {'VarName': 'delta[0,0,20,20]', 'X': 1},\n",
       "  {'VarName': 'delta[0,0,26,26]', 'X': 1},\n",
       "  {'VarName': 'delta[0,0,28,28]', 'X': 1},\n",
       "  {'VarName': 'delta[0,0,58,58]', 'X': 1},\n",
       "  {'VarName': 'delta[0,0,59,59]', 'X': 1},\n",
       "  {'VarName': 'delta[1,1,9,9]', 'X': 1},\n",
       "  {'VarName': 'delta[1,1,11,11]', 'X': 1},\n",
       "  {'VarName': 'delta[1,1,12,12]', 'X': 1},\n",
       "  {'VarName': 'delta[1,1,13,13]', 'X': 1},\n",
       "  {'VarName': 'delta[1,1,19,19]', 'X': 1},\n",
       "  {'VarName': 'delta[1,1,34,34]', 'X': 1},\n",
       "  {'VarName': 'delta[1,1,37,37]', 'X': 1},\n",
       "  {'VarName': 'delta[1,1,39,39]', 'X': 1},\n",
       "  {'VarName': 'delta[1,1,53,53]', 'X': 1},\n",
       "  {'VarName': 'delta[1,2,37,38]', 'X': 1},\n",
       "  {'VarName': 'delta[2,1,38,37]', 'X': 1},\n",
       "  {'VarName': 'delta[2,2,8,8]', 'X': 1},\n",
       "  {'VarName': 'delta[2,2,32,32]', 'X': 1},\n",
       "  {'VarName': 'delta[2,2,36,36]', 'X': 1},\n",
       "  {'VarName': 'delta[2,2,38,38]', 'X': 1},\n",
       "  {'VarName': 'delta[2,2,40,40]', 'X': 1},\n",
       "  {'VarName': 'delta[2,2,41,41]', 'X': 1},\n",
       "  {'VarName': 'delta[2,2,54,54]', 'X': 1},\n",
       "  {'VarName': 'delta[2,2,57,57]', 'X': 1},\n",
       "  {'VarName': 'delta[3,3,10,10]', 'X': 1},\n",
       "  {'VarName': 'delta[3,3,21,21]', 'X': 1},\n",
       "  {'VarName': 'delta[3,3,25,25]', 'X': 1},\n",
       "  {'VarName': 'delta[3,3,29,29]', 'X': 1},\n",
       "  {'VarName': 'delta[3,3,31,31]', 'X': 1},\n",
       "  {'VarName': 'delta[3,3,35,35]', 'X': 1},\n",
       "  {'VarName': 'delta[3,3,45,45]', 'X': 1},\n",
       "  {'VarName': 'delta[3,3,52,52]', 'X': 1},\n",
       "  {'VarName': 'delta[3,3,55,55]', 'X': 1},\n",
       "  {'VarName': 'delta[4,4,14,14]', 'X': 1},\n",
       "  {'VarName': 'delta[4,4,22,22]', 'X': 1},\n",
       "  {'VarName': 'delta[4,4,27,27]', 'X': 1},\n",
       "  {'VarName': 'delta[4,4,30,30]', 'X': 1},\n",
       "  {'VarName': 'delta[4,4,33,33]', 'X': 1},\n",
       "  {'VarName': 'delta[4,4,42,42]', 'X': 1},\n",
       "  {'VarName': 'delta[4,4,44,44]', 'X': 1},\n",
       "  {'VarName': 'delta[4,4,56,56]', 'X': 1}]}"
      ]
     },
     "execution_count": 11,
     "metadata": {},
     "output_type": "execute_result"
    }
   ],
   "source": [
    "soln"
   ]
  },
  {
   "cell_type": "code",
   "execution_count": 12,
   "id": "82ac5c5a",
   "metadata": {},
   "outputs": [
    {
     "name": "stdout",
     "output_type": "stream",
     "text": [
      "loops per truck on day 0:[0 0 0 0 0]\n",
      "loops per truck on day 1:[1 1 2 1 1]\n",
      "loops per truck on day 2:[0 0 0 0 0]\n",
      "loops per truck on day 3:[1 2 1 1 1]\n",
      "loops per truck on day 4:[0 0 0 0 0]\n",
      "loops per truck on day 5:[1 2 1 1 1]\n",
      "loops per truck on day 6:[0 0 0 0 0]\n",
      "loops per truck on day 7:[2 1 2 2 3]\n",
      "loops per truck on day 8:[0 0 0 0 0]\n",
      "loops per truck on day 9:[2 1 2 1 1]\n",
      "loops per truck on day 10:[0 0 0 0 0]\n",
      "loops per truck on day 11:[2 1 2 1 2]\n",
      "loops per truck on day 12:[0 0 0 0 0]\n",
      "loops per truck on day 13:[1 2 2 2 2]\n",
      "loops per truck on day 14:[0 0 0 0 0]\n",
      "loops per truck on day 15:[2 1 2 2 1]\n"
     ]
    }
   ],
   "source": [
    "for d in D:\n",
    "    print(\"loops per truck on day {}:{}\".format(d, sum(Y[:,:,d])))"
   ]
  },
  {
   "cell_type": "code",
   "execution_count": 13,
   "id": "26d2ad9f",
   "metadata": {},
   "outputs": [
    {
     "data": {
      "text/plain": [
       "86.68277777777776"
      ]
     },
     "execution_count": 13,
     "metadata": {},
     "output_type": "execute_result"
    }
   ],
   "source": [
    "sum(h)"
   ]
  },
  {
   "cell_type": "code",
   "execution_count": 14,
   "id": "c68c2926",
   "metadata": {},
   "outputs": [
    {
     "data": {
      "text/plain": [
       "[[20, 21],\n",
       " [3, 5],\n",
       " [16, 18],\n",
       " [16, 18],\n",
       " [38, 39],\n",
       " [50, 51],\n",
       " [20, 21],\n",
       " [20, 51],\n",
       " [13, 15],\n",
       " [42, 58],\n",
       " [26, 28],\n",
       " [10, 12],\n",
       " [50, 51],\n",
       " [40, 42],\n",
       " [40, 41],\n",
       " [37, 39],\n",
       " [9, 35],\n",
       " [43, 45],\n",
       " [47, 48],\n",
       " [24, 25]]"
      ]
     },
     "execution_count": 14,
     "metadata": {},
     "output_type": "execute_result"
    }
   ],
   "source": [
    "list(doubles)"
   ]
  },
  {
   "cell_type": "code",
   "execution_count": 15,
   "id": "32f89ace",
   "metadata": {},
   "outputs": [],
   "source": [
    "#print(m.display())"
   ]
  },
  {
   "cell_type": "code",
   "execution_count": 16,
   "id": "776ced2f",
   "metadata": {},
   "outputs": [],
   "source": [
    "#m.computeIIS()\n",
    "#m.write(\"model.ilp\")"
   ]
  },
  {
   "cell_type": "code",
   "execution_count": 17,
   "id": "31bf6ead",
   "metadata": {},
   "outputs": [
    {
     "data": {
      "text/plain": [
       "array([1.32472222, 0.30972222, 0.91694444, 1.83944444, 1.91416667,\n",
       "       3.78583333, 2.09277778, 1.47027778, 1.1525    , 2.0125    ,\n",
       "       0.96944444, 0.96027778, 0.96944444, 1.20333333, 1.19722222,\n",
       "       1.20333333, 2.57361111, 0.8075    , 3.05222222, 1.07      ,\n",
       "       1.21666667, 1.16527778, 1.07      , 1.7025    , 0.75027778,\n",
       "       1.34416667, 1.45305556, 1.2675    , 1.55722222, 2.92166667,\n",
       "       1.03861111, 0.99694444, 2.96333333, 1.10472222, 1.20083333,\n",
       "       1.15472222, 1.35972222, 0.90916667, 1.235     , 0.94138889,\n",
       "       1.0475    , 0.87611111, 0.95277778, 1.15444444, 1.70916667,\n",
       "       1.52666667, 2.78527778, 1.23944444, 1.79305556, 0.99222222,\n",
       "       1.48222222, 1.38666667, 2.98472222, 2.54333333, 1.18444444,\n",
       "       1.18444444, 0.89944444, 0.92472222, 0.93861111, 0.89944444])"
      ]
     },
     "execution_count": 17,
     "metadata": {},
     "output_type": "execute_result"
    }
   ],
   "source": [
    "h"
   ]
  },
  {
   "cell_type": "code",
   "execution_count": 18,
   "id": "eb290702",
   "metadata": {},
   "outputs": [
    {
     "data": {
      "text/plain": [
       "[[9, 10, 11, 12],\n",
       " [13, 15, 44, 45],\n",
       " [19, 20, 21, 22],\n",
       " [26, 27, 28, 44],\n",
       " [56, 57, 58, 59],\n",
       " [56, 57, 58, 59],\n",
       " [25, 40, 41, 42],\n",
       " [52, 53, 54, 55],\n",
       " [8, 13, 14, 15],\n",
       " [37, 38, 39, 57],\n",
       " [33, 34, 35, 36],\n",
       " [29, 30, 31, 32]]"
      ]
     },
     "execution_count": 18,
     "metadata": {},
     "output_type": "execute_result"
    }
   ],
   "source": [
    "list(quadruples)"
   ]
  },
  {
   "cell_type": "code",
   "execution_count": 15,
   "id": "24a356c2",
   "metadata": {},
   "outputs": [
    {
     "data": {
      "text/plain": [
       "60"
      ]
     },
     "execution_count": 15,
     "metadata": {},
     "output_type": "execute_result"
    }
   ],
   "source": [
    "len(loops)"
   ]
  },
  {
   "cell_type": "code",
   "execution_count": null,
   "id": "267ceb26",
   "metadata": {},
   "outputs": [],
   "source": []
  }
 ],
 "metadata": {
  "kernelspec": {
   "display_name": "Python 3 (ipykernel)",
   "language": "python",
   "name": "python3"
  },
  "language_info": {
   "codemirror_mode": {
    "name": "ipython",
    "version": 3
   },
   "file_extension": ".py",
   "mimetype": "text/x-python",
   "name": "python",
   "nbconvert_exporter": "python",
   "pygments_lexer": "ipython3",
   "version": "3.10.4"
  }
 },
 "nbformat": 4,
 "nbformat_minor": 5
}
