{
 "cells": [
  {
   "cell_type": "code",
   "execution_count": 1,
   "id": "dd8dd414",
   "metadata": {},
   "outputs": [],
   "source": [
    "import numpy as np\n",
    "import pandas as pd\n",
    "import matplotlib.pyplot as plt\n",
    "import json\n",
    "import os\n",
    "import scipy as sp\n",
    "from collections import defaultdict\n",
    "from itertools import product\n",
    "import gurobipy as gb\n",
    "from gurobipy import GRB\n",
    "from tqdm import tqdm\n",
    "#8 - 125,11 - 126"
   ]
  },
  {
   "cell_type": "code",
   "execution_count": 2,
   "id": "72a2520c",
   "metadata": {},
   "outputs": [],
   "source": [
    "clusters = json.load(open('./clusters.json'))\n",
    "clusters = list(\n",
    "map(lambda x: [0]+x, clusters)\n",
    ")\n",
    "'''for cluster in clusters:\n",
    "    if 8 in cluster:\n",
    "        cluster.append(125)\n",
    "    if 11 in cluster:\n",
    "        cluster.append(126)'''\n",
    "solutions = json.load(open('./primary_model_solutions.json'))"
   ]
  },
  {
   "cell_type": "code",
   "execution_count": 3,
   "id": "bebd018c",
   "metadata": {},
   "outputs": [],
   "source": [
    "def loop(From, l):\n",
    "    l.append(From)\n",
    "    if From == 0:\n",
    "        return l\n",
    "    to = np.where(x[From] == 1)\n",
    "    return loop(to[0][0], l)"
   ]
  },
  {
   "cell_type": "code",
   "execution_count": 4,
   "id": "6a8a13de",
   "metadata": {},
   "outputs": [],
   "source": [
    "loops = []\n",
    "for i,cluster in enumerate(clusters):\n",
    "    soln = solutions[str(i)]\n",
    "    x = np.zeros((len(cluster), len(cluster)))\n",
    "    Vars = soln['Vars']\n",
    "    for var in Vars:\n",
    "        if var['VarName'].startswith('x'):\n",
    "            indices = var['VarName'].split('[')\n",
    "            indices = indices[1].split(']')[0]\n",
    "            indices = indices.split(',')\n",
    "            indices = int(indices[0]), int(indices[1])\n",
    "            x[indices] = 1\n",
    "    for zero_to in np.where(x[0]==1)[0]:\n",
    "        Loop = map(\n",
    "            lambda idx: cluster[idx],\n",
    "            loop(zero_to, [0])\n",
    "        )\n",
    "        loops.append(list(Loop))"
   ]
  },
  {
   "cell_type": "code",
   "execution_count": 5,
   "id": "58c671a1",
   "metadata": {},
   "outputs": [],
   "source": [
    "json.dump(loops, open('./loops.json', 'w'), indent=4)"
   ]
  },
  {
   "cell_type": "code",
   "execution_count": 6,
   "id": "327ba19b",
   "metadata": {},
   "outputs": [],
   "source": [
    "from itertools import chain\n",
    "ch = chain(*loops)"
   ]
  },
  {
   "cell_type": "code",
   "execution_count": 7,
   "id": "859d3ac3",
   "metadata": {},
   "outputs": [],
   "source": [
    "ch = list(ch)"
   ]
  },
  {
   "cell_type": "code",
   "execution_count": 8,
   "id": "1b20b0c7",
   "metadata": {},
   "outputs": [],
   "source": [
    "s = 0\n",
    "for sol in solutions.values():\n",
    "    s += sol['SolutionInfo']['ObjVal']"
   ]
  },
  {
   "cell_type": "code",
   "execution_count": 9,
   "id": "71747a2e",
   "metadata": {},
   "outputs": [
    {
     "data": {
      "text/plain": [
       "8138571"
      ]
     },
     "execution_count": 9,
     "metadata": {},
     "output_type": "execute_result"
    }
   ],
   "source": [
    "s"
   ]
  },
  {
   "cell_type": "code",
   "execution_count": 10,
   "id": "27d48231",
   "metadata": {},
   "outputs": [
    {
     "data": {
      "text/plain": [
       "[[0, 105, 67, 1, 45, 0],\n",
       " [0, 166, 0],\n",
       " [0, 28, 93, 2, 66, 123, 0],\n",
       " [0, 69, 120, 61, 60, 3, 0],\n",
       " [0, 4, 40, 0],\n",
       " [0, 151, 0],\n",
       " [0, 152, 0],\n",
       " [0, 153, 0],\n",
       " [0, 5, 0],\n",
       " [0, 25, 125, 0],\n",
       " [0, 126, 0],\n",
       " [0, 127, 0],\n",
       " [0, 89, 103, 6, 0],\n",
       " [0, 128, 0],\n",
       " [0, 130, 0],\n",
       " [0, 59, 0],\n",
       " [0, 102, 47, 7, 16, 0],\n",
       " [0, 43, 8, 27, 0],\n",
       " [0, 160, 0],\n",
       " [0, 162, 0],\n",
       " [0, 9, 32, 0],\n",
       " [0, 131, 133, 0],\n",
       " [0, 134, 0],\n",
       " [0, 155, 117, 0],\n",
       " [0, 156, 62, 10, 0],\n",
       " [0, 84, 75, 171, 11, 51, 0],\n",
       " [0, 12, 0],\n",
       " [0, 110, 81, 88, 132, 0],\n",
       " [0, 99, 13, 74, 20, 77, 0],\n",
       " [0, 161, 78, 113, 14, 34, 0],\n",
       " [0, 15, 79, 104, 0],\n",
       " [0, 55, 165, 0],\n",
       " [0, 146, 50, 17, 56, 63, 0],\n",
       " [0, 18, 173, 58, 101, 44, 0],\n",
       " [0, 119, 87, 19, 95, 0],\n",
       " [0, 178, 0],\n",
       " [0, 21, 122, 176, 57, 0],\n",
       " [0, 180, 0],\n",
       " [0, 106, 0],\n",
       " [0, 167, 115, 26, 22, 0],\n",
       " [0, 121, 76, 23, 100, 0],\n",
       " [0, 179, 0],\n",
       " [0, 24, 107, 82, 0],\n",
       " [0, 168, 135, 0],\n",
       " [0, 42, 94, 53, 29, 54, 0],\n",
       " [0, 91, 30, 83, 80, 90, 0],\n",
       " [0, 31, 33, 0],\n",
       " [0, 136, 0],\n",
       " [0, 137, 0],\n",
       " [0, 138, 0],\n",
       " [0, 35, 108, 129, 86, 0],\n",
       " [0, 169, 0],\n",
       " [0, 36, 0],\n",
       " [0, 140, 48, 0],\n",
       " [0, 144, 139, 0],\n",
       " [0, 41, 142, 0],\n",
       " [0, 143, 0],\n",
       " [0, 154, 37, 0],\n",
       " [0, 38, 116, 0],\n",
       " [0, 145, 175, 0],\n",
       " [0, 147, 0],\n",
       " [0, 39, 0],\n",
       " [0, 52, 148, 0],\n",
       " [0, 149, 0],\n",
       " [0, 150, 0],\n",
       " [0, 112, 68, 124, 49, 46, 0],\n",
       " [0, 64, 65, 70, 118, 0],\n",
       " [0, 177, 0],\n",
       " [0, 71, 97, 111, 0],\n",
       " [0, 163, 172, 0],\n",
       " [0, 98, 92, 85, 0],\n",
       " [0, 164, 72, 0],\n",
       " [0, 157, 96, 0],\n",
       " [0, 158, 73, 0],\n",
       " [0, 159, 0],\n",
       " [0, 109, 141, 174, 0],\n",
       " [0, 114, 170, 0]]"
      ]
     },
     "execution_count": 10,
     "metadata": {},
     "output_type": "execute_result"
    }
   ],
   "source": [
    "loops"
   ]
  },
  {
   "cell_type": "code",
   "execution_count": null,
   "id": "6fcece7a",
   "metadata": {},
   "outputs": [],
   "source": []
  },
  {
   "cell_type": "code",
   "execution_count": null,
   "id": "456c8083",
   "metadata": {},
   "outputs": [],
   "source": []
  }
 ],
 "metadata": {
  "kernelspec": {
   "display_name": "Python 3 (ipykernel)",
   "language": "python",
   "name": "python3"
  },
  "language_info": {
   "codemirror_mode": {
    "name": "ipython",
    "version": 3
   },
   "file_extension": ".py",
   "mimetype": "text/x-python",
   "name": "python",
   "nbconvert_exporter": "python",
   "pygments_lexer": "ipython3",
   "version": "3.10.4"
  }
 },
 "nbformat": 4,
 "nbformat_minor": 5
}
