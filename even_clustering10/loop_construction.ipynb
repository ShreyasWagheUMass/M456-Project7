{
 "cells": [
  {
   "cell_type": "code",
   "execution_count": 10,
   "id": "dd8dd414",
   "metadata": {},
   "outputs": [],
   "source": [
    "import numpy as np\n",
    "import pandas as pd\n",
    "import matplotlib.pyplot as plt\n",
    "import json\n",
    "import os\n",
    "import scipy as sp\n",
    "from collections import defaultdict\n",
    "from itertools import product\n",
    "import gurobipy as gb\n",
    "from gurobipy import GRB\n",
    "from tqdm import tqdm\n",
    "#8 - 125,11 - 126"
   ]
  },
  {
   "cell_type": "code",
   "execution_count": 11,
   "id": "72a2520c",
   "metadata": {},
   "outputs": [],
   "source": [
    "clusters = json.load(open('./clusters.json'))\n",
    "clusters = list(\n",
    "map(lambda x: [0]+x, clusters)\n",
    ")\n",
    "'''for cluster in clusters:\n",
    "    if 8 in cluster:\n",
    "        cluster.append(125)\n",
    "    if 11 in cluster:\n",
    "        cluster.append(126)'''\n",
    "solutions = json.load(open('./primary_model_solutions.json'))"
   ]
  },
  {
   "cell_type": "code",
   "execution_count": 12,
   "id": "bebd018c",
   "metadata": {},
   "outputs": [],
   "source": [
    "def loop(From, l):\n",
    "    l.append(From)\n",
    "    if From == 0:\n",
    "        return l\n",
    "    to = np.where(x[From] == 1)\n",
    "    return loop(to[0][0], l)"
   ]
  },
  {
   "cell_type": "code",
   "execution_count": 13,
   "id": "6a8a13de",
   "metadata": {},
   "outputs": [],
   "source": [
    "loops = []\n",
    "for i,cluster in enumerate(clusters):\n",
    "    soln = solutions[str(i)]\n",
    "    x = np.zeros((len(cluster), len(cluster)))\n",
    "    Vars = soln['Vars']\n",
    "    for var in Vars:\n",
    "        if var['VarName'].startswith('x'):\n",
    "            indices = var['VarName'].split('[')\n",
    "            indices = indices[1].split(']')[0]\n",
    "            indices = indices.split(',')\n",
    "            indices = int(indices[0]), int(indices[1])\n",
    "            x[indices] = 1\n",
    "    for zero_to in np.where(x[0]==1)[0]:\n",
    "        Loop = map(\n",
    "            lambda idx: cluster[idx],\n",
    "            loop(zero_to, [0])\n",
    "        )\n",
    "        loops.append(list(Loop))"
   ]
  },
  {
   "cell_type": "code",
   "execution_count": 14,
   "id": "58c671a1",
   "metadata": {},
   "outputs": [],
   "source": [
    "json.dump(loops, open('./loops.json', 'w'), indent=4)"
   ]
  },
  {
   "cell_type": "code",
   "execution_count": 15,
   "id": "327ba19b",
   "metadata": {},
   "outputs": [],
   "source": [
    "from itertools import chain\n",
    "ch = chain(*loops)"
   ]
  },
  {
   "cell_type": "code",
   "execution_count": 16,
   "id": "859d3ac3",
   "metadata": {},
   "outputs": [],
   "source": [
    "ch = list(ch)"
   ]
  },
  {
   "cell_type": "code",
   "execution_count": 17,
   "id": "1b20b0c7",
   "metadata": {},
   "outputs": [],
   "source": [
    "s = 0\n",
    "for sol in solutions.values():\n",
    "    s += sol['SolutionInfo']['ObjVal']"
   ]
  },
  {
   "cell_type": "code",
   "execution_count": 18,
   "id": "71747a2e",
   "metadata": {},
   "outputs": [
    {
     "data": {
      "text/plain": [
       "5855898.987111546"
      ]
     },
     "execution_count": 18,
     "metadata": {},
     "output_type": "execute_result"
    },
    {
     "data": {
      "text/plain": [
       "5855898.987111546"
      ]
     },
     "execution_count": 18,
     "metadata": {},
     "output_type": "execute_result"
    }
   ],
   "source": [
    "s"
   ]
  },
  {
   "cell_type": "code",
   "execution_count": 19,
   "id": "27d48231",
   "metadata": {},
   "outputs": [
    {
     "data": {
      "text/plain": [
       "[[0, 1, 45, 101, 44, 16, 0],\n",
       " [0, 59, 0],\n",
       " [0, 102, 47, 7, 48, 0],\n",
       " [0, 12, 123, 0],\n",
       " [0, 88, 86, 2, 0],\n",
       " [0, 132, 66, 89, 95, 19, 0],\n",
       " [0, 46, 61, 60, 3, 0],\n",
       " [0, 51, 49, 0],\n",
       " [0, 69, 120, 4, 151, 0],\n",
       " [0, 64, 118, 77, 126, 0],\n",
       " [0, 111, 34, 125, 0],\n",
       " [0, 127, 0],\n",
       " [0, 172, 5, 0],\n",
       " [0, 40, 108, 35, 6, 0],\n",
       " [0, 115, 26, 152, 0],\n",
       " [0, 153, 169, 128, 0],\n",
       " [0, 57, 72, 98, 97, 0],\n",
       " [0, 92, 0],\n",
       " [0, 164, 27, 8, 71, 163, 0],\n",
       " [0, 32, 0],\n",
       " [0, 107, 135, 131, 106, 0],\n",
       " [0, 133, 9, 113, 167, 0],\n",
       " [0, 134, 0],\n",
       " [0, 10, 17, 56, 63, 0],\n",
       " [0, 55, 180, 0],\n",
       " [0, 145, 122, 21, 62, 0],\n",
       " [0, 75, 171, 31, 136, 0],\n",
       " [0, 84, 137, 0],\n",
       " [0, 110, 11, 81, 138, 0],\n",
       " [0, 13, 74, 20, 43, 0],\n",
       " [0, 85, 161, 0],\n",
       " [0, 160, 0],\n",
       " [0, 162, 25, 99, 0],\n",
       " [0, 42, 73, 0],\n",
       " [0, 157, 14, 78, 0],\n",
       " [0, 158, 177, 0],\n",
       " [0, 159, 94, 96, 0],\n",
       " [0, 154, 117, 0],\n",
       " [0, 156, 82, 79, 104, 0],\n",
       " [0, 176, 15, 155, 165, 0],\n",
       " [0, 114, 38, 116, 50, 0],\n",
       " [0, 146, 175, 0],\n",
       " [0, 147, 18, 170, 174, 0],\n",
       " [0, 22, 178, 0],\n",
       " [0, 93, 28, 33, 130, 0],\n",
       " [0, 129, 103, 87, 119, 0],\n",
       " [0, 100, 76, 23, 0],\n",
       " [0, 121, 91, 0],\n",
       " [0, 179, 52, 29, 53, 54, 0],\n",
       " [0, 58, 124, 0],\n",
       " [0, 67, 68, 166, 112, 0],\n",
       " [0, 173, 105, 24, 168, 0],\n",
       " [0, 39, 83, 80, 65, 0],\n",
       " [0, 148, 30, 70, 90, 0],\n",
       " [0, 149, 0],\n",
       " [0, 150, 0],\n",
       " [0, 37, 140, 0],\n",
       " [0, 41, 144, 139, 0],\n",
       " [0, 109, 142, 36, 0],\n",
       " [0, 143, 141, 0]]"
      ]
     },
     "execution_count": 19,
     "metadata": {},
     "output_type": "execute_result"
    },
    {
     "data": {
      "text/plain": [
       "[[0, 1, 45, 101, 44, 16, 0],\n",
       " [0, 59, 0],\n",
       " [0, 102, 47, 7, 48, 0],\n",
       " [0, 12, 123, 0],\n",
       " [0, 88, 86, 2, 0],\n",
       " [0, 132, 66, 89, 95, 19, 0],\n",
       " [0, 46, 61, 60, 3, 0],\n",
       " [0, 51, 49, 0],\n",
       " [0, 69, 120, 4, 151, 0],\n",
       " [0, 64, 118, 77, 126, 0],\n",
       " [0, 111, 34, 125, 0],\n",
       " [0, 127, 0],\n",
       " [0, 172, 5, 0],\n",
       " [0, 40, 108, 35, 6, 0],\n",
       " [0, 115, 26, 152, 0],\n",
       " [0, 153, 169, 128, 0],\n",
       " [0, 57, 72, 98, 97, 0],\n",
       " [0, 92, 0],\n",
       " [0, 164, 27, 8, 71, 163, 0],\n",
       " [0, 32, 0],\n",
       " [0, 107, 135, 131, 106, 0],\n",
       " [0, 133, 9, 113, 167, 0],\n",
       " [0, 134, 0],\n",
       " [0, 10, 17, 56, 63, 0],\n",
       " [0, 55, 180, 0],\n",
       " [0, 145, 122, 21, 62, 0],\n",
       " [0, 75, 171, 31, 136, 0],\n",
       " [0, 84, 137, 0],\n",
       " [0, 110, 11, 81, 138, 0],\n",
       " [0, 13, 74, 20, 43, 0],\n",
       " [0, 85, 161, 0],\n",
       " [0, 160, 0],\n",
       " [0, 162, 25, 99, 0],\n",
       " [0, 42, 73, 0],\n",
       " [0, 157, 14, 78, 0],\n",
       " [0, 158, 177, 0],\n",
       " [0, 159, 94, 96, 0],\n",
       " [0, 154, 117, 0],\n",
       " [0, 156, 82, 79, 104, 0],\n",
       " [0, 176, 15, 155, 165, 0],\n",
       " [0, 114, 38, 116, 50, 0],\n",
       " [0, 146, 175, 0],\n",
       " [0, 147, 18, 170, 174, 0],\n",
       " [0, 22, 178, 0],\n",
       " [0, 93, 28, 33, 130, 0],\n",
       " [0, 129, 103, 87, 119, 0],\n",
       " [0, 100, 76, 23, 0],\n",
       " [0, 121, 91, 0],\n",
       " [0, 179, 52, 29, 53, 54, 0],\n",
       " [0, 58, 124, 0],\n",
       " [0, 67, 68, 166, 112, 0],\n",
       " [0, 173, 105, 24, 168, 0],\n",
       " [0, 39, 83, 80, 65, 0],\n",
       " [0, 148, 30, 70, 90, 0],\n",
       " [0, 149, 0],\n",
       " [0, 150, 0],\n",
       " [0, 37, 140, 0],\n",
       " [0, 41, 144, 139, 0],\n",
       " [0, 109, 142, 36, 0],\n",
       " [0, 143, 141, 0]]"
      ]
     },
     "execution_count": 19,
     "metadata": {},
     "output_type": "execute_result"
    }
   ],
   "source": [
    "loops"
   ]
  },
  {
   "cell_type": "code",
   "execution_count": null,
   "id": "95ac9827",
   "metadata": {},
   "outputs": [],
   "source": []
  }
 ],
 "metadata": {
  "kernelspec": {
   "display_name": "Python 3 (ipykernel)",
   "language": "python",
   "name": "python3"
  },
  "language_info": {
   "codemirror_mode": {
    "name": "ipython",
    "version": 3
   },
   "file_extension": ".py",
   "mimetype": "text/x-python",
   "name": "python",
   "nbconvert_exporter": "python",
   "pygments_lexer": "ipython3",
   "version": "3.10.4"
  }
 },
 "nbformat": 4,
 "nbformat_minor": 5
}
