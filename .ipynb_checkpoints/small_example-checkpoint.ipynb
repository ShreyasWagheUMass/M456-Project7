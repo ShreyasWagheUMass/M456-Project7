{
 "cells": [
  {
   "cell_type": "code",
   "execution_count": 1,
   "id": "d0700ed0",
   "metadata": {},
   "outputs": [],
   "source": [
    "import numpy as np\n",
    "import pandas as pd\n",
    "import gurobipy as gb\n",
    "from gurobipy import GRB"
   ]
  },
  {
   "cell_type": "code",
   "execution_count": 2,
   "id": "6b8a580d",
   "metadata": {},
   "outputs": [],
   "source": [
    "# We don't *need* these to be arrays, but its closer to what we'll have in the final programme.\n",
    "c = np.array([\n",
    "    [0,6,4,2,4],\n",
    "    [6,0,5,5,2],\n",
    "    [4,5,0,4,6],\n",
    "    [2,5,4,0,3],\n",
    "    [4,2,6,3,0]\n",
    "]) # This is a symmetric matrix as expected, since c_ij == c_ji.\n",
    "v = 5\n",
    "V = set(range(v))\n",
    "def Del(p):\n",
    "    return V - set([p])\n",
    "N = Del(0)"
   ]
  },
  {
   "cell_type": "code",
   "execution_count": 14,
   "id": "3566999b",
   "metadata": {},
   "outputs": [
    {
     "name": "stdout",
     "output_type": "stream",
     "text": [
      "(0, 1) (0, 2) (0, 3) (0, 4) (1, 0) (1, 2) (1, 3) (1, 4) (2, 0) (2, 1) (2, 3) (2, 4) (3, 0) (3, 1) (3, 2) (3, 4) (4, 0) (4, 1) (4, 2) (4, 3)\n"
     ]
    }
   ],
   "source": [
    "from itertools import product\n",
    "A = product(V,V)\n",
    "A = filter(lambda tup: tup[0] != tup[1], A)"
   ]
  },
  {
   "cell_type": "code",
   "execution_count": 3,
   "id": "02c1a194",
   "metadata": {},
   "outputs": [
    {
     "name": "stdout",
     "output_type": "stream",
     "text": [
      "Set parameter Username\n",
      "Academic license - for non-commercial use only - expires 2023-09-12\n"
     ]
    }
   ],
   "source": [
    "m = gb.Model()"
   ]
  },
  {
   "cell_type": "code",
   "execution_count": 4,
   "id": "36773052",
   "metadata": {},
   "outputs": [],
   "source": [
    "x = m.addVars(v,v,vtype=GRB.BINARY)"
   ]
  },
  {
   "cell_type": "code",
   "execution_count": 6,
   "id": "33cb456d",
   "metadata": {},
   "outputs": [],
   "source": [
    "#Constraints are coded in the order they appear in the final report"
   ]
  },
  {
   "cell_type": "code",
   "execution_count": 7,
   "id": "0c8470e6",
   "metadata": {},
   "outputs": [
    {
     "ename": "NameError",
     "evalue": "name 'K' is not defined",
     "output_type": "error",
     "traceback": [
      "\u001b[0;31m---------------------------------------------------------------------------\u001b[0m",
      "\u001b[0;31mNameError\u001b[0m                                 Traceback (most recent call last)",
      "Cell \u001b[0;32mIn [7], line 3\u001b[0m\n\u001b[1;32m      1\u001b[0m \u001b[38;5;28;01mfor\u001b[39;00m i \u001b[38;5;129;01min\u001b[39;00m N:\n\u001b[1;32m      2\u001b[0m     sum_expr \u001b[38;5;241m=\u001b[39m \u001b[38;5;241m0\u001b[39m\n\u001b[0;32m----> 3\u001b[0m     \u001b[38;5;28;01mfor\u001b[39;00m k \u001b[38;5;129;01min\u001b[39;00m \u001b[38;5;28mrange\u001b[39m(\u001b[43mK\u001b[49m):\n\u001b[1;32m      4\u001b[0m         \u001b[38;5;28;01mfor\u001b[39;00m j \u001b[38;5;129;01min\u001b[39;00m del_plus(i):\n\u001b[1;32m      5\u001b[0m             sum_expr \u001b[38;5;241m+\u001b[39m\u001b[38;5;241m=\u001b[39m x[i,j,k]\n",
      "\u001b[0;31mNameError\u001b[0m: name 'K' is not defined"
     ]
    }
   ],
   "source": [
    "m.setObjective()"
   ]
  },
  {
   "cell_type": "code",
   "execution_count": null,
   "id": "40993c83",
   "metadata": {},
   "outputs": [],
   "source": [
    "for k in range(K):\n",
    "    sum_expr = 0\n",
    "    for j in del_plus(0):\n",
    "        sum_expr += x[0,j,k]\n",
    "    m.addConstr(sum_expr == 1)"
   ]
  },
  {
   "cell_type": "code",
   "execution_count": null,
   "id": "e6ae18ee",
   "metadata": {},
   "outputs": [],
   "source": [
    "for k in range(K):\n",
    "    for j in N:\n",
    "        minus_sum = 0\n",
    "        for i in del_minus(j):\n",
    "            minus_sum += x[i,j,k]\n",
    "            \n",
    "        plus_sum = 0\n",
    "        for i in del_plus(j):\n",
    "            plus_sum += x[i,j,k]\n",
    "            \n",
    "        m.addConstr(minus_sum - plus_sum == 0)"
   ]
  },
  {
   "cell_type": "code",
   "execution_count": null,
   "id": "0e293c60",
   "metadata": {},
   "outputs": [],
   "source": [
    "#whats n?"
   ]
  },
  {
   "cell_type": "code",
   "execution_count": null,
   "id": "61607fd4",
   "metadata": {},
   "outputs": [],
   "source": []
  }
 ],
 "metadata": {
  "kernelspec": {
   "display_name": "Python 3 (ipykernel)",
   "language": "python",
   "name": "python3"
  },
  "language_info": {
   "codemirror_mode": {
    "name": "ipython",
    "version": 3
   },
   "file_extension": ".py",
   "mimetype": "text/x-python",
   "name": "python",
   "nbconvert_exporter": "python",
   "pygments_lexer": "ipython3",
   "version": "3.10.4"
  }
 },
 "nbformat": 4,
 "nbformat_minor": 5
}
