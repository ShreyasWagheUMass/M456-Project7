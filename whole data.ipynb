{
 "cells": [
  {
   "cell_type": "code",
   "execution_count": 1,
   "id": "29e45a12",
   "metadata": {},
   "outputs": [],
   "source": [
    "import numpy as np\n",
    "import pandas as pd\n",
    "import json\n",
    "\n",
    "import gurobipy as gb\n",
    "from gurobipy import GRB"
   ]
  },
  {
   "cell_type": "code",
   "execution_count": 2,
   "id": "2a5bff06",
   "metadata": {},
   "outputs": [],
   "source": [
    "c = pd.read_json('./cleandata/dist_mat.json')\n",
    "t = pd.read_json('./cleandata/time_mat.json')\n",
    "locdem = pd.read_excel('./cleandata/locdem.xlsx')\n",
    "#8 - 124,11 - 125\n",
    "c = c.loc[:123, :123].to_numpy()\n",
    "t = t.loc[:123, :123].to_numpy()\n",
    "q = locdem['Number of pallets']\n",
    "q = q.to_numpy()\n",
    "\n",
    "def get(i):\n",
    "    if i == 124:\n",
    "        return 8\n",
    "    if i == 125:\n",
    "        return 11\n",
    "    return i\n",
    "\n",
    "def time(i,j):\n",
    "    i,j = get(i), get(j)\n",
    "    return t[i,j]\n",
    "\n",
    "def cost(i,j):\n",
    "    if (i,j) in [(125,11), (11,125), (8,124), (124,8)]:\n",
    "        return 1e+8\n",
    "    i,j = get(i), get(j)\n",
    "    return c[i,j]"
   ]
  },
  {
   "cell_type": "code",
   "execution_count": 3,
   "id": "f7566d83",
   "metadata": {},
   "outputs": [],
   "source": [
    "v = 126\n",
    "V = set(range(126))\n",
    "def Del(p):\n",
    "    return V - set([p])\n",
    "N = Del(0)\n",
    "Q = 9\n",
    "\n",
    "from itertools import product\n",
    "A = filter(lambda tup: tup[0] != tup[1], product(N,N))"
   ]
  },
  {
   "cell_type": "code",
   "execution_count": 4,
   "id": "277cb423",
   "metadata": {},
   "outputs": [
    {
     "name": "stdout",
     "output_type": "stream",
     "text": [
      "Set parameter Username\n",
      "Academic license - for non-commercial use only - expires 2023-09-12\n"
     ]
    }
   ],
   "source": [
    "m1 = gb.Model()"
   ]
  },
  {
   "cell_type": "code",
   "execution_count": 5,
   "id": "bac54736",
   "metadata": {},
   "outputs": [],
   "source": [
    "#Remember to take care of 124,125\n",
    "#8 - 124,11 - 125"
   ]
  },
  {
   "cell_type": "code",
   "execution_count": 6,
   "id": "0f24fe68",
   "metadata": {},
   "outputs": [],
   "source": [
    "x = m1.addVars(v,v,vtype=GRB.BINARY, name='x')\n",
    "m1.setObjective(sum([cost(i,j) * x[i,j] for i,j in product(V,V)]), GRB.MINIMIZE)"
   ]
  },
  {
   "cell_type": "code",
   "execution_count": 7,
   "id": "1afc1ac7",
   "metadata": {},
   "outputs": [],
   "source": [
    "#Source and sink constraints\n",
    "for i in N:\n",
    "    m1.addConstr(sum([x[i,j] for j in Del(i)]) == 1)\n",
    "for j in N:\n",
    "    m1.addConstr(sum([x[i,j] for i in Del(j)]) == 1 )"
   ]
  },
  {
   "cell_type": "code",
   "execution_count": 8,
   "id": "3d482cae",
   "metadata": {},
   "outputs": [
    {
     "data": {
      "text/plain": [
       "<gurobi.Constr *Awaiting Model Update*>"
      ]
     },
     "execution_count": 8,
     "metadata": {},
     "output_type": "execute_result"
    }
   ],
   "source": [
    "#Construction of L loops\n",
    "L = m1.addVar(lb=0.0, vtype=GRB.INTEGER, name='L')\n",
    "m1.addConstr(sum([x[0,j] for j in Del(0)]) == L)\n"
   ]
  },
  {
   "cell_type": "code",
   "execution_count": 9,
   "id": "078017c2",
   "metadata": {},
   "outputs": [],
   "source": [
    "#Capacity constraints\n",
    "u = m1.addVars(V, vtype=GRB.INTEGER, name='u')\n",
    "for i,j in A:\n",
    "    m1.addConstr(u[i] - u[j] + Q*x[i,j] <= Q - q[j])\n",
    "for i in V:\n",
    "    m1.addConstr(u[i] >= q[i])"
   ]
  },
  {
   "cell_type": "code",
   "execution_count": 10,
   "id": "41f4a76b",
   "metadata": {},
   "outputs": [],
   "source": [
    "# This doesn't work out: m1.optimize()"
   ]
  },
  {
   "cell_type": "code",
   "execution_count": null,
   "id": "161c6c9c",
   "metadata": {},
   "outputs": [],
   "source": []
  }
 ],
 "metadata": {
  "kernelspec": {
   "display_name": "Python 3 (ipykernel)",
   "language": "python",
   "name": "python3"
  },
  "language_info": {
   "codemirror_mode": {
    "name": "ipython",
    "version": 3
   },
   "file_extension": ".py",
   "mimetype": "text/x-python",
   "name": "python",
   "nbconvert_exporter": "python",
   "pygments_lexer": "ipython3",
   "version": "3.10.4"
  }
 },
 "nbformat": 4,
 "nbformat_minor": 5
}
