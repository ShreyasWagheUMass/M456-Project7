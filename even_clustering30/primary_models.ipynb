{
 "cells": [
  {
   "cell_type": "code",
   "execution_count": 1,
   "id": "4cfc082d",
   "metadata": {},
   "outputs": [],
   "source": [
    "import numpy as np\n",
    "import pandas as pd\n",
    "import matplotlib.pyplot as plt\n",
    "import json\n",
    "import os\n",
    "import scipy as sp\n",
    "from collections import defaultdict\n",
    "from itertools import product\n",
    "import gurobipy as gb\n",
    "from gurobipy import GRB\n",
    "from tqdm import tqdm\n",
    "from itertools import chain\n",
    "from itertools import permutations\n",
    "\n",
    "repeats = json.load(open('../cleanerdata/repeats.json'))\n",
    "repeats = {int(k):v for k,v in repeats.items()}\n",
    "\n",
    "locdem = pd.read_excel('../cleanerdata/locdem.xlsx')\n",
    "\n",
    "q = locdem['Number of pallets'].to_numpy().astype(float).tolist()\n",
    "q = [0] + q\n",
    "q.extend([v['dem'] for v in repeats.values()])\n",
    "\n",
    "locs = pd.read_excel('../cleanerdata/locations.xlsx')\n",
    "longs, lats = locs['long'].to_numpy().tolist(), locs['lat'].to_numpy().tolist()\n",
    "longs.extend([longs[v['map']] for v in repeats.values()])\n",
    "lats.extend([lats[v['map']] for v in repeats.values()])\n",
    "\n",
    "distmat = pd.read_json('../cleanerdata/distmat.json').to_numpy()\n",
    "timemat = pd.read_json('../cleanerdata/timemat.json').to_numpy()\n",
    "def get(i):\n",
    "    try:\n",
    "        i = repeats[i]['map']\n",
    "    except KeyError:\n",
    "        pass\n",
    "    return i\n",
    "\n",
    "reverse_mapping = defaultdict(list)\n",
    "for k,v in repeats.items():\n",
    "    reverse_mapping[v['map']].append(k)\n",
    "for k in reverse_mapping:\n",
    "    reverse_mapping[k].append(k)\n",
    "\n",
    "mappings = list(chain(*[permutations(ls,2) for ls in reverse_mapping.values()]))\n",
    "\n",
    "def cost(i,j):\n",
    "    if (i,j) in mappings:\n",
    "        return 1e+8\n",
    "    i,j = get(i), get(j)\n",
    "    return distmat[i,j]\n",
    "\n",
    "def time(i,j):\n",
    "    i,j = get(i), get(j)\n",
    "    return timemat[i,j]\n",
    "\n",
    "def location(i):\n",
    "    return longs[i], lats[i]"
   ]
  },
  {
   "cell_type": "code",
   "execution_count": 2,
   "id": "81daa5f3",
   "metadata": {},
   "outputs": [
    {
     "data": {
      "text/plain": [
       "[30, 30, 30, 30, 30, 30]"
      ]
     },
     "execution_count": 2,
     "metadata": {},
     "output_type": "execute_result"
    }
   ],
   "source": [
    "clusters = json.load(open('./clusters.json'))\n",
    "list(map(lambda x: len(x), clusters))"
   ]
  },
  {
   "cell_type": "code",
   "execution_count": null,
   "id": "e04e4307",
   "metadata": {},
   "outputs": [],
   "source": []
  },
  {
   "cell_type": "code",
   "execution_count": null,
   "id": "8ab07b20",
   "metadata": {},
   "outputs": [
    {
     "name": "stdout",
     "output_type": "stream",
     "text": [
      "Set parameter Username\n",
      "Academic license - for non-commercial use only - expires 2023-09-12\n"
     ]
    }
   ],
   "source": [
    "Q = 9\n",
    "iter_count = 0\n",
    "primary_models = []\n",
    "Ls = []\n",
    "\n",
    "for cluster in clusters:\n",
    "    Neighbours = list(sorted(cluster))\n",
    "    all_nodes = [0] + Neighbours.copy()\n",
    "    v = len(all_nodes)\n",
    "    V = list(range(v))\n",
    "    N = V.copy()\n",
    "    N.remove(0)\n",
    "    \n",
    "    def Del(i):\n",
    "        F = V.copy()\n",
    "        F.remove(i)\n",
    "        return F\n",
    "    \n",
    "    m = gb.Model()\n",
    "    x = m.addVars(v,v, vtype=GRB.BINARY, name='x')\n",
    "    m.setObjective(sum([cost(all_nodes[i], all_nodes[j]) * x[i,j] for i,j in product(V,V)]))\n",
    "    for i in N:\n",
    "        m.addConstr(sum([x[i,j] for j in Del(i)]) == 1)\n",
    "    for j in N:\n",
    "        m.addConstr(sum([x[i,j] for i in Del(j)]) == 1)\n",
    "        \n",
    "    l = m.addVar(lb=0.0, vtype=GRB.INTEGER, name='L')\n",
    "    Ls.append(l)\n",
    "    m.addConstr(sum([x[0,j] for j in Del(0)]) == l)\n",
    "    \n",
    "    u = m.addVars(V, vtype=GRB.CONTINUOUS, name='u')\n",
    "    for i,j in filter(lambda tup: tup[0] != tup[1], product(N,N)):\n",
    "        m.addConstr(u[i] - u[j] + Q*x[i,j] <= Q - q[j])\n",
    "    for i in V:\n",
    "        m.addConstr(u[i] >= q[i])\n",
    "        \n",
    "    for pair in mappings:\n",
    "        if pair[0] in cluster and pair[1] in cluster:\n",
    "            pair = Neighbours.index(pair[0])+1, Neighbours.index(pair[1])+1\n",
    "            #print(Neighbours, pair)\n",
    "            for length in range(1,6):\n",
    "                all_groups = permutations(N,length)\n",
    "                for group in all_groups:\n",
    "                    if pair[0] in group or pair[1] in group:\n",
    "                        continue\n",
    "                    group = [pair[0]] + list(group) + [pair[1]]\n",
    "                    edges = [(group[i], group[i+1]) for i in range(len(group) - 1)]\n",
    "                    expr = 0\n",
    "                    for edge in edges:\n",
    "                        expr += x[edge]\n",
    "                    m.addConstr(expr <= length)\n",
    "    m.Params.timelimit=600\n",
    "    primary_models.append(m)"
   ]
  },
  {
   "cell_type": "code",
   "execution_count": null,
   "id": "1f50b090",
   "metadata": {},
   "outputs": [],
   "source": [
    "for model in tqdm(primary_models):\n",
    "    model.optimize();"
   ]
  },
  {
   "cell_type": "code",
   "execution_count": null,
   "id": "74333d0c",
   "metadata": {},
   "outputs": [],
   "source": [
    "model_solutions = {}\n",
    "for i,model in enumerate(primary_models):\n",
    "    soln = json.loads(model.getJSONSolution())\n",
    "    model_solutions[i] = soln\n",
    "json.dump(model_solutions, open('./primary_model_solutions.json', 'w'), indent=4)"
   ]
  },
  {
   "cell_type": "code",
   "execution_count": null,
   "id": "c3d06792",
   "metadata": {},
   "outputs": [],
   "source": [
    "s = 0\n",
    "for model in primary_models:\n",
    "    s += model.ObjVal\n",
    "s"
   ]
  },
  {
   "cell_type": "code",
   "execution_count": null,
   "id": "7a397319",
   "metadata": {},
   "outputs": [],
   "source": [
    "from itertools import permutations\n",
    "K = [1,2,3]\n",
    "print(*permutations(K,2))"
   ]
  },
  {
   "cell_type": "code",
   "execution_count": null,
   "id": "ab62ae03",
   "metadata": {},
   "outputs": [],
   "source": []
  }
 ],
 "metadata": {
  "kernelspec": {
   "display_name": "Python 3 (ipykernel)",
   "language": "python",
   "name": "python3"
  },
  "language_info": {
   "codemirror_mode": {
    "name": "ipython",
    "version": 3
   },
   "file_extension": ".py",
   "mimetype": "text/x-python",
   "name": "python",
   "nbconvert_exporter": "python",
   "pygments_lexer": "ipython3",
   "version": "3.10.4"
  }
 },
 "nbformat": 4,
 "nbformat_minor": 5
}
