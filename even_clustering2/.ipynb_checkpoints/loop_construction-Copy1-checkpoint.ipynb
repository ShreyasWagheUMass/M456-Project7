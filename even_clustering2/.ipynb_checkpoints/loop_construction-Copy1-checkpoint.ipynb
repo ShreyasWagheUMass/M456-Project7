{
 "cells": [
  {
   "cell_type": "code",
   "execution_count": 1,
   "id": "dd8dd414",
   "metadata": {},
   "outputs": [],
   "source": [
    "import numpy as np\n",
    "import pandas as pd\n",
    "import matplotlib.pyplot as plt\n",
    "import json\n",
    "import os\n",
    "import scipy as sp\n",
    "from collections import defaultdict\n",
    "from itertools import product\n",
    "import gurobipy as gb\n",
    "from gurobipy import GRB\n",
    "from tqdm import tqdm\n",
    "#8 - 125,11 - 126"
   ]
  },
  {
   "cell_type": "code",
   "execution_count": 2,
   "id": "72a2520c",
   "metadata": {},
   "outputs": [],
   "source": [
    "clusters = json.load(open('./clusters.json'))\n",
    "clusters = list(\n",
    "map(lambda x: [0]+x, clusters)\n",
    ")\n",
    "for cluster in clusters:\n",
    "    if 8 in cluster:\n",
    "        cluster.append(125)\n",
    "    if 11 in cluster:\n",
    "        cluster.append(126)\n",
    "solutions = json.load(open('./primary_model_solutions.json'))"
   ]
  },
  {
   "cell_type": "code",
   "execution_count": 3,
   "id": "bebd018c",
   "metadata": {},
   "outputs": [],
   "source": [
    "def loop(From, l):\n",
    "    l.append(From)\n",
    "    if From == 0:\n",
    "        return l\n",
    "    to = np.where(x[From] == 1)\n",
    "    return loop(to[0][0], l)"
   ]
  },
  {
   "cell_type": "code",
   "execution_count": 4,
   "id": "6a8a13de",
   "metadata": {},
   "outputs": [],
   "source": [
    "loops = []\n",
    "for i,cluster in enumerate(clusters):\n",
    "    soln = solutions[str(i)]\n",
    "    x = np.zeros((len(cluster), len(cluster)))\n",
    "    Vars = soln['Vars']\n",
    "    for var in Vars:\n",
    "        if var['VarName'].startswith('x'):\n",
    "            indices = var['VarName'].split('[')\n",
    "            indices = indices[1].split(']')[0]\n",
    "            indices = indices.split(',')\n",
    "            indices = int(indices[0]), int(indices[1])\n",
    "            x[indices] = 1\n",
    "    for zero_to in np.where(x[0]==1)[0]:\n",
    "        Loop = map(\n",
    "            lambda idx: cluster[idx],\n",
    "            loop(zero_to, [0])\n",
    "        )\n",
    "        loops.append(list(Loop))"
   ]
  },
  {
   "cell_type": "code",
   "execution_count": 5,
   "id": "58c671a1",
   "metadata": {},
   "outputs": [],
   "source": [
    "json.dump(loops, open('./loops.json', 'w'), indent=4)"
   ]
  },
  {
   "cell_type": "code",
   "execution_count": 6,
   "id": "327ba19b",
   "metadata": {},
   "outputs": [],
   "source": [
    "from itertools import chain\n",
    "ch = chain(*loops)"
   ]
  },
  {
   "cell_type": "code",
   "execution_count": 7,
   "id": "859d3ac3",
   "metadata": {},
   "outputs": [],
   "source": [
    "ch = list(ch)"
   ]
  },
  {
   "cell_type": "code",
   "execution_count": 8,
   "id": "3ff13c63",
   "metadata": {},
   "outputs": [
    {
     "name": "stdout",
     "output_type": "stream",
     "text": [
      "54\n",
      "1\n",
      "1\n",
      "1\n",
      "1\n",
      "1\n",
      "1\n",
      "1\n",
      "1\n",
      "1\n",
      "1\n",
      "1\n",
      "1\n",
      "1\n",
      "1\n",
      "1\n",
      "1\n",
      "1\n",
      "1\n",
      "1\n",
      "1\n",
      "1\n",
      "1\n",
      "1\n",
      "1\n",
      "1\n",
      "1\n",
      "1\n",
      "1\n",
      "1\n",
      "1\n",
      "1\n",
      "1\n",
      "1\n",
      "1\n",
      "1\n",
      "1\n",
      "1\n",
      "1\n",
      "1\n",
      "1\n",
      "1\n",
      "1\n",
      "1\n",
      "1\n",
      "1\n",
      "1\n",
      "1\n",
      "1\n",
      "1\n",
      "1\n",
      "1\n",
      "1\n",
      "1\n",
      "1\n",
      "1\n",
      "1\n",
      "1\n",
      "1\n",
      "1\n",
      "1\n",
      "1\n",
      "1\n",
      "1\n",
      "1\n",
      "1\n",
      "1\n",
      "1\n",
      "1\n",
      "1\n",
      "1\n",
      "1\n",
      "1\n",
      "1\n",
      "1\n",
      "1\n",
      "1\n",
      "1\n",
      "1\n",
      "1\n",
      "1\n",
      "1\n",
      "1\n",
      "1\n",
      "1\n",
      "1\n",
      "1\n",
      "1\n",
      "1\n",
      "1\n",
      "1\n",
      "1\n",
      "1\n",
      "1\n",
      "1\n",
      "1\n",
      "1\n",
      "1\n",
      "1\n",
      "1\n",
      "1\n",
      "1\n",
      "1\n",
      "1\n",
      "1\n",
      "1\n",
      "1\n",
      "1\n",
      "1\n",
      "1\n",
      "1\n",
      "1\n",
      "1\n",
      "1\n",
      "1\n",
      "1\n",
      "1\n",
      "1\n",
      "1\n",
      "1\n",
      "1\n",
      "1\n",
      "1\n",
      "1\n",
      "1\n",
      "1\n",
      "1\n"
     ]
    }
   ],
   "source": [
    "for i in range(127):\n",
    "    print(ch.count(i))"
   ]
  },
  {
   "cell_type": "code",
   "execution_count": 9,
   "id": "1b20b0c7",
   "metadata": {},
   "outputs": [],
   "source": [
    "s = 0\n",
    "for sol in solutions.values():\n",
    "    s += sol['SolutionInfo']['ObjVal']"
   ]
  },
  {
   "cell_type": "code",
   "execution_count": 10,
   "id": "71747a2e",
   "metadata": {},
   "outputs": [
    {
     "data": {
      "text/plain": [
       "3459650"
      ]
     },
     "execution_count": 10,
     "metadata": {},
     "output_type": "execute_result"
    }
   ],
   "source": [
    "s"
   ]
  },
  {
   "cell_type": "code",
   "execution_count": null,
   "id": "27d48231",
   "metadata": {},
   "outputs": [],
   "source": []
  }
 ],
 "metadata": {
  "kernelspec": {
   "display_name": "Python 3 (ipykernel)",
   "language": "python",
   "name": "python3"
  },
  "language_info": {
   "codemirror_mode": {
    "name": "ipython",
    "version": 3
   },
   "file_extension": ".py",
   "mimetype": "text/x-python",
   "name": "python",
   "nbconvert_exporter": "python",
   "pygments_lexer": "ipython3",
   "version": "3.10.4"
  }
 },
 "nbformat": 4,
 "nbformat_minor": 5
}
